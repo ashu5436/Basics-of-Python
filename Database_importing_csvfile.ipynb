{
 "cells": [
  {
   "cell_type": "markdown",
   "id": "b8df3737",
   "metadata": {},
   "source": [
    "##### Creating  database with the help of importing the CSV file"
   ]
  },
  {
   "cell_type": "code",
   "execution_count": 1,
   "id": "37709217",
   "metadata": {},
   "outputs": [],
   "source": [
    "import sqlite3"
   ]
  },
  {
   "cell_type": "code",
   "execution_count": 2,
   "id": "2231c0bc",
   "metadata": {},
   "outputs": [],
   "source": [
    "db=sqlite3.connect(\"E:\\\\Python\\\\Employee database.db\")"
   ]
  },
  {
   "cell_type": "code",
   "execution_count": 3,
   "id": "8eab2ce1",
   "metadata": {},
   "outputs": [],
   "source": [
    "cur=db.cursor()"
   ]
  },
  {
   "cell_type": "code",
   "execution_count": 5,
   "id": "235edac4",
   "metadata": {},
   "outputs": [
    {
     "data": {
      "text/plain": [
       "<sqlite3.Cursor at 0x1ecc7e92b90>"
      ]
     },
     "execution_count": 5,
     "metadata": {},
     "output_type": "execute_result"
    }
   ],
   "source": [
    "cur.execute(\"create table Employee(id int primary key,age int,name text)\")"
   ]
  },
  {
   "cell_type": "code",
   "execution_count": 11,
   "id": "9372be26",
   "metadata": {},
   "outputs": [],
   "source": [
    "with open(\"Employee.csv\",'r') as file:\n",
    "    for row in file:\n",
    "        cur.execute(\"insert into Employee values(?,?,?)\",row.split(\",\"))\n",
    "        db.commit()\n",
    "        "
   ]
  },
  {
   "cell_type": "code",
   "execution_count": 14,
   "id": "2fbf29d9",
   "metadata": {},
   "outputs": [
    {
     "name": "stdout",
     "output_type": "stream",
     "text": [
      "(1, 11, 'asd\\n')\n",
      "(2, 13, 'asd\\n')\n",
      "(3, 43, 'sdj\\n')\n",
      "(4, 65, 'anh\\n')\n",
      "(5, 77, 'jhk\\n')\n",
      "(6, 23, 'ahs')\n"
     ]
    }
   ],
   "source": [
    "r=cur.execute(\"select * from Employee\")\n",
    "for a in r:\n",
    "    print(a)"
   ]
  },
  {
   "cell_type": "code",
   "execution_count": null,
   "id": "e3b21bdc",
   "metadata": {},
   "outputs": [],
   "source": []
  },
  {
   "cell_type": "code",
   "execution_count": null,
   "id": "38487044",
   "metadata": {},
   "outputs": [],
   "source": []
  },
  {
   "cell_type": "code",
   "execution_count": null,
   "id": "4d5de3ad",
   "metadata": {},
   "outputs": [],
   "source": []
  }
 ],
 "metadata": {
  "kernelspec": {
   "display_name": "Python 3 (ipykernel)",
   "language": "python",
   "name": "python3"
  },
  "language_info": {
   "codemirror_mode": {
    "name": "ipython",
    "version": 3
   },
   "file_extension": ".py",
   "mimetype": "text/x-python",
   "name": "python",
   "nbconvert_exporter": "python",
   "pygments_lexer": "ipython3",
   "version": "3.9.7"
  }
 },
 "nbformat": 4,
 "nbformat_minor": 5
}
