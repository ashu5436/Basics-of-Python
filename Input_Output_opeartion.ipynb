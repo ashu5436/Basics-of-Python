{
 "cells": [
  {
   "cell_type": "markdown",
   "id": "64b40341",
   "metadata": {},
   "source": [
    "##### I/Output Opeartor"
   ]
  },
  {
   "cell_type": "code",
   "execution_count": 1,
   "id": "efcb8824",
   "metadata": {},
   "outputs": [],
   "source": [
    "#when you want to create a text file in write mode in a particular location in your system drive\n",
    "c=open(\"E:\\\\Python\\\\My_Text.txt\",'w')"
   ]
  },
  {
   "cell_type": "code",
   "execution_count": 2,
   "id": "254b4b6a",
   "metadata": {},
   "outputs": [
    {
     "data": {
      "text/plain": [
       "20"
      ]
     },
     "execution_count": 2,
     "metadata": {},
     "output_type": "execute_result"
    }
   ],
   "source": [
    "c.write(\"Hey there whats up!!\")"
   ]
  },
  {
   "cell_type": "code",
   "execution_count": 3,
   "id": "edd1118d",
   "metadata": {},
   "outputs": [],
   "source": [
    "c.close()"
   ]
  },
  {
   "cell_type": "code",
   "execution_count": 4,
   "id": "4779766c",
   "metadata": {},
   "outputs": [],
   "source": [
    "#when you want to create a text file in read mode\n",
    "re=open(\"E:\\\\Python\\\\My_Text.txt\",'r')"
   ]
  },
  {
   "cell_type": "code",
   "execution_count": 5,
   "id": "ea10011a",
   "metadata": {},
   "outputs": [
    {
     "data": {
      "text/plain": [
       "'Hey there whats up!!'"
      ]
     },
     "execution_count": 5,
     "metadata": {},
     "output_type": "execute_result"
    }
   ],
   "source": [
    "re.read()"
   ]
  },
  {
   "cell_type": "code",
   "execution_count": 6,
   "id": "ff5f2c57",
   "metadata": {},
   "outputs": [],
   "source": [
    "re.close()"
   ]
  },
  {
   "cell_type": "code",
   "execution_count": 7,
   "id": "1bcd44af",
   "metadata": {},
   "outputs": [],
   "source": [
    "#when you want to create a text file in append mode\n",
    "apnd=open(\"E:\\\\Python\\\\My_Text.txt\",'a')"
   ]
  },
  {
   "cell_type": "code",
   "execution_count": 8,
   "id": "b2b4a33c",
   "metadata": {},
   "outputs": [
    {
     "data": {
      "text/plain": [
       "22"
      ]
     },
     "execution_count": 8,
     "metadata": {},
     "output_type": "execute_result"
    }
   ],
   "source": [
    "apnd.write(\"\\nJust studying Python.\")"
   ]
  },
  {
   "cell_type": "code",
   "execution_count": 9,
   "id": "0cd9859e",
   "metadata": {},
   "outputs": [],
   "source": [
    "apnd.close()"
   ]
  },
  {
   "cell_type": "code",
   "execution_count": 10,
   "id": "57b2febe",
   "metadata": {},
   "outputs": [],
   "source": [
    "rd=open(\"E:\\\\Python\\\\My_Text.txt\",'r')"
   ]
  },
  {
   "cell_type": "code",
   "execution_count": 11,
   "id": "88872110",
   "metadata": {},
   "outputs": [
    {
     "data": {
      "text/plain": [
       "'Hey there whats up!!\\nJust studying Python.'"
      ]
     },
     "execution_count": 11,
     "metadata": {},
     "output_type": "execute_result"
    }
   ],
   "source": [
    "rd.read()"
   ]
  },
  {
   "cell_type": "code",
   "execution_count": 12,
   "id": "1f908b1a",
   "metadata": {},
   "outputs": [],
   "source": [
    "rd.close()"
   ]
  }
 ],
 "metadata": {
  "kernelspec": {
   "display_name": "Python 3 (ipykernel)",
   "language": "python",
   "name": "python3"
  },
  "language_info": {
   "codemirror_mode": {
    "name": "ipython",
    "version": 3
   },
   "file_extension": ".py",
   "mimetype": "text/x-python",
   "name": "python",
   "nbconvert_exporter": "python",
   "pygments_lexer": "ipython3",
   "version": "3.9.7"
  }
 },
 "nbformat": 4,
 "nbformat_minor": 5
}
