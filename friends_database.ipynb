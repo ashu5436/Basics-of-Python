{
 "cells": [
  {
   "cell_type": "markdown",
   "id": "0f5cdeeb",
   "metadata": {},
   "source": [
    "##### FRIEND'S FOREVER DATABASE"
   ]
  },
  {
   "cell_type": "code",
   "execution_count": 1,
   "id": "7b41ea38",
   "metadata": {},
   "outputs": [],
   "source": [
    "import sqlite3"
   ]
  },
  {
   "cell_type": "code",
   "execution_count": 2,
   "id": "90d55bbb",
   "metadata": {},
   "outputs": [],
   "source": [
    "db=sqlite3.connect(\"E:\\\\Python\\\\friends forever.db\")"
   ]
  },
  {
   "cell_type": "code",
   "execution_count": 3,
   "id": "d3112ab2",
   "metadata": {},
   "outputs": [],
   "source": [
    "cur=db.cursor()"
   ]
  },
  {
   "cell_type": "code",
   "execution_count": 4,
   "id": "0177a172",
   "metadata": {},
   "outputs": [
    {
     "data": {
      "text/plain": [
       "<sqlite3.Cursor at 0x27d9d623ce0>"
      ]
     },
     "execution_count": 4,
     "metadata": {},
     "output_type": "execute_result"
    }
   ],
   "source": [
    "cur.execute(\"create table friends(roll int primary key,name text,age int)\")"
   ]
  },
  {
   "cell_type": "code",
   "execution_count": 7,
   "id": "46e1654d",
   "metadata": {},
   "outputs": [],
   "source": [
    "with open(\"friends_forever.csv\") as f:\n",
    "    for row in f:\n",
    "        cur.execute(\"insert into friends values(?,?,?)\",row.split(\",\"))\n",
    "        db.commit()"
   ]
  },
  {
   "cell_type": "code",
   "execution_count": 8,
   "id": "0c7bd8ac",
   "metadata": {},
   "outputs": [
    {
     "name": "stdout",
     "output_type": "stream",
     "text": [
      "(1, 'SUNNY', 28)\n",
      "(2, 'SUSHIL', 28)\n",
      "(3, 'SHIVAM', 27)\n",
      "(4, 'VIKASH', 27)\n",
      "(5, 'MANISH', 28)\n",
      "(6, 'SHIVNATH', 29)\n",
      "(7, 'FIROZ', 28)\n",
      "(8, 'RAHUL', 28)\n",
      "(9, 'ASHUTOSH', 27)\n",
      "(10, 'SATYAM', 28)\n",
      "(11, 'ABHISHEK', 29)\n",
      "(12, 'AMIT', 28)\n",
      "(13, 'DEEPAK', 29)\n",
      "(14, 'AVINASH', 27)\n",
      "(15, 'ABHISHEK', 27)\n",
      "(16, 'ASHISH', 29)\n",
      "(17, 'ASHISH', 31)\n",
      "(18, 'PRAKHAR', 29)\n",
      "(19, 'BHASKAR', 26)\n",
      "(20, 'NITESH', 29)\n",
      "(21, 'VIJAY', 29)\n"
     ]
    }
   ],
   "source": [
    "r=cur.execute(\"select * from friends\")\n",
    "for row in r:\n",
    "    print(row)"
   ]
  },
  {
   "cell_type": "code",
   "execution_count": 11,
   "id": "cb3a89f1",
   "metadata": {},
   "outputs": [
    {
     "data": {
      "text/plain": [
       "<sqlite3.Cursor at 0x27d9d623ce0>"
      ]
     },
     "execution_count": 11,
     "metadata": {},
     "output_type": "execute_result"
    }
   ],
   "source": [
    "cur.execute(\"update friends set age=25 where name='ASHUTOSH'\")"
   ]
  },
  {
   "cell_type": "code",
   "execution_count": 12,
   "id": "da4e4cc5",
   "metadata": {},
   "outputs": [
    {
     "name": "stdout",
     "output_type": "stream",
     "text": [
      "(1, 'SUNNY', 28)\n",
      "(2, 'SUSHIL', 28)\n",
      "(3, 'SHIVAM', 27)\n",
      "(4, 'VIKASH', 27)\n",
      "(5, 'MANISH', 28)\n",
      "(6, 'SHIVNATH', 29)\n",
      "(7, 'FIROZ', 28)\n",
      "(8, 'RAHUL', 28)\n",
      "(9, 'ASHUTOSH', 25)\n",
      "(10, 'SATYAM', 28)\n",
      "(11, 'ABHISHEK', 29)\n",
      "(12, 'AMIT', 28)\n",
      "(13, 'DEEPAK', 29)\n",
      "(14, 'AVINASH', 27)\n",
      "(15, 'ABHISHEK', 27)\n",
      "(16, 'ASHISH', 29)\n",
      "(17, 'ASHISH', 31)\n",
      "(18, 'PRAKHAR', 29)\n",
      "(19, 'BHASKAR', 26)\n",
      "(20, 'NITESH', 29)\n",
      "(21, 'VIJAY', 29)\n"
     ]
    }
   ],
   "source": [
    "r=cur.execute(\"select * from friends\")\n",
    "for row in r:\n",
    "    print(row)"
   ]
  },
  {
   "cell_type": "code",
   "execution_count": 38,
   "id": "3756b84e",
   "metadata": {},
   "outputs": [],
   "source": [
    "cur.execute(\"update friends set age=25 where name in ('ASHUTOSH','VIJAY')\")\n",
    "db.commit()"
   ]
  },
  {
   "cell_type": "code",
   "execution_count": 39,
   "id": "933628f0",
   "metadata": {},
   "outputs": [
    {
     "name": "stdout",
     "output_type": "stream",
     "text": [
      "(1, 'SUNNY', 28)\n",
      "(2, 'SUSHIL', 28)\n",
      "(3, 'SHIVAM', 27)\n",
      "(4, 'VIKASH', 27)\n",
      "(5, 'MANISH', 28)\n",
      "(6, 'SHIVNATH', 29)\n",
      "(7, 'FIROZ', 28)\n",
      "(8, 'RAHUL', 28)\n",
      "(9, 'ASHUTOSH', 25)\n",
      "(10, 'SATYAM', 28)\n",
      "(11, 'ABHISHEK', 29)\n",
      "(12, 'AMIT', 28)\n",
      "(13, 'DEEPAK', 29)\n",
      "(14, 'AVINASH', 27)\n",
      "(15, 'ABHISHEK', 27)\n",
      "(16, 'ASHISH', 29)\n",
      "(17, 'ASHISH', 31)\n",
      "(18, 'PRAKHAR', 29)\n",
      "(19, 'BHASKAR', 26)\n",
      "(20, 'NITESH', 29)\n",
      "(21, 'VIJAY', 25)\n"
     ]
    }
   ],
   "source": [
    "r=cur.execute(\"select * from friends\")\n",
    "for row in r:\n",
    "    print(row)"
   ]
  },
  {
   "cell_type": "code",
   "execution_count": 40,
   "id": "c2f648cf",
   "metadata": {},
   "outputs": [
    {
     "name": "stdout",
     "output_type": "stream",
     "text": [
      "(11, 'ABHISHEK', 29)\n",
      "(15, 'ABHISHEK', 27)\n",
      "(12, 'AMIT', 28)\n",
      "(16, 'ASHISH', 29)\n",
      "(17, 'ASHISH', 31)\n",
      "(9, 'ASHUTOSH', 25)\n",
      "(14, 'AVINASH', 27)\n",
      "(19, 'BHASKAR', 26)\n",
      "(13, 'DEEPAK', 29)\n",
      "(7, 'FIROZ', 28)\n",
      "(5, 'MANISH', 28)\n",
      "(20, 'NITESH', 29)\n",
      "(18, 'PRAKHAR', 29)\n",
      "(8, 'RAHUL', 28)\n",
      "(10, 'SATYAM', 28)\n",
      "(3, 'SHIVAM', 27)\n",
      "(6, 'SHIVNATH', 29)\n",
      "(1, 'SUNNY', 28)\n",
      "(2, 'SUSHIL', 28)\n",
      "(21, 'VIJAY', 25)\n",
      "(4, 'VIKASH', 27)\n"
     ]
    }
   ],
   "source": [
    "r=cur.execute(\"select * from friends order by name asc\")\n",
    "for row in r:\n",
    "    print(row)"
   ]
  },
  {
   "cell_type": "code",
   "execution_count": 41,
   "id": "2292e43a",
   "metadata": {},
   "outputs": [
    {
     "name": "stdout",
     "output_type": "stream",
     "text": [
      "(4, 'VIKASH', 27)\n",
      "(21, 'VIJAY', 25)\n",
      "(2, 'SUSHIL', 28)\n",
      "(1, 'SUNNY', 28)\n",
      "(6, 'SHIVNATH', 29)\n",
      "(3, 'SHIVAM', 27)\n",
      "(10, 'SATYAM', 28)\n",
      "(8, 'RAHUL', 28)\n",
      "(18, 'PRAKHAR', 29)\n",
      "(20, 'NITESH', 29)\n",
      "(5, 'MANISH', 28)\n",
      "(7, 'FIROZ', 28)\n",
      "(13, 'DEEPAK', 29)\n",
      "(19, 'BHASKAR', 26)\n",
      "(14, 'AVINASH', 27)\n",
      "(9, 'ASHUTOSH', 25)\n",
      "(16, 'ASHISH', 29)\n",
      "(17, 'ASHISH', 31)\n",
      "(12, 'AMIT', 28)\n",
      "(11, 'ABHISHEK', 29)\n",
      "(15, 'ABHISHEK', 27)\n"
     ]
    }
   ],
   "source": [
    "r=cur.execute(\"select * from friends order by name desc\")\n",
    "for row in r:\n",
    "    print(row)"
   ]
  },
  {
   "cell_type": "code",
   "execution_count": 42,
   "id": "ef68cfa3",
   "metadata": {},
   "outputs": [
    {
     "name": "stdout",
     "output_type": "stream",
     "text": [
      "(1, 'SUNNY', 28)\n",
      "(2, 'SUSHIL', 28)\n",
      "(3, 'SHIVAM', 27)\n",
      "(4, 'VIKASH', 27)\n",
      "(5, 'MANISH', 28)\n",
      "(6, 'SHIVNATH', 29)\n",
      "(7, 'FIROZ', 28)\n",
      "(8, 'RAHUL', 28)\n",
      "(9, 'ASHUTOSH', 25)\n",
      "(10, 'SATYAM', 28)\n",
      "(11, 'ABHISHEK', 29)\n",
      "(12, 'AMIT', 28)\n",
      "(13, 'DEEPAK', 29)\n",
      "(14, 'AVINASH', 27)\n",
      "(15, 'ABHISHEK', 27)\n",
      "(16, 'ASHISH', 29)\n",
      "(17, 'ASHISH', 31)\n",
      "(18, 'PRAKHAR', 29)\n",
      "(19, 'BHASKAR', 26)\n",
      "(20, 'NITESH', 29)\n",
      "(21, 'VIJAY', 25)\n"
     ]
    }
   ],
   "source": [
    "r=cur.execute(\"select * from friends where name like '____%'\")\n",
    "for row in r:\n",
    "    print(row)"
   ]
  },
  {
   "cell_type": "code",
   "execution_count": 43,
   "id": "797a4e2f",
   "metadata": {},
   "outputs": [
    {
     "name": "stdout",
     "output_type": "stream",
     "text": [
      "(12, 'AMIT', 28)\n"
     ]
    }
   ],
   "source": [
    "r=cur.execute(\"select * from friends where name like '____'\")\n",
    "for row in r:\n",
    "    print(row)"
   ]
  },
  {
   "cell_type": "code",
   "execution_count": 44,
   "id": "3a639105",
   "metadata": {},
   "outputs": [
    {
     "name": "stdout",
     "output_type": "stream",
     "text": [
      "(1, 'SUNNY', 28)\n",
      "(2, 'SUSHIL', 28)\n",
      "(3, 'SHIVAM', 27)\n",
      "(4, 'VIKASH', 27)\n",
      "(5, 'MANISH', 28)\n",
      "(6, 'SHIVNATH', 29)\n",
      "(7, 'FIROZ', 28)\n",
      "(8, 'RAHUL', 28)\n",
      "(9, 'ASHUTOSH', 25)\n",
      "(10, 'SATYAM', 28)\n",
      "(11, 'ABHISHEK', 29)\n",
      "(12, 'AMIT', 28)\n",
      "(13, 'DEEPAK', 29)\n",
      "(14, 'AVINASH', 27)\n",
      "(15, 'ABHISHEK', 27)\n",
      "(16, 'ASHISH', 29)\n",
      "(17, 'ASHISH', 31)\n",
      "(18, 'PRAKHAR', 29)\n",
      "(19, 'BHASKAR', 26)\n",
      "(20, 'NITESH', 29)\n",
      "(21, 'VIJAY', 25)\n"
     ]
    }
   ],
   "source": [
    "r=cur.execute(\"select * from friends where name like '%____'\")\n",
    "for row in r:\n",
    "    print(row)"
   ]
  },
  {
   "cell_type": "code",
   "execution_count": 45,
   "id": "cd2550fd",
   "metadata": {},
   "outputs": [
    {
     "name": "stdout",
     "output_type": "stream",
     "text": [
      "(1, 'SUNNY', 28)\n",
      "(2, 'SUSHIL', 28)\n",
      "(3, 'SHIVAM', 27)\n",
      "(4, 'VIKASH', 27)\n",
      "(5, 'MANISH', 28)\n",
      "(6, 'SHIVNATH', 29)\n",
      "(7, 'FIROZ', 28)\n",
      "(8, 'RAHUL', 28)\n",
      "(9, 'ASHUTOSH', 25)\n",
      "(10, 'SATYAM', 28)\n",
      "(11, 'ABHISHEK', 29)\n",
      "(12, 'AMIT', 28)\n",
      "(13, 'DEEPAK', 29)\n",
      "(14, 'AVINASH', 27)\n",
      "(15, 'ABHISHEK', 27)\n",
      "(16, 'ASHISH', 29)\n",
      "(17, 'ASHISH', 31)\n",
      "(18, 'PRAKHAR', 29)\n",
      "(19, 'BHASKAR', 26)\n",
      "(20, 'NITESH', 29)\n",
      "(21, 'VIJAY', 25)\n"
     ]
    }
   ],
   "source": [
    "r=cur.execute(\"select * from friends where name like '%__%__'\")\n",
    "for row in r:\n",
    "    print(row)"
   ]
  },
  {
   "cell_type": "code",
   "execution_count": 46,
   "id": "f4183aa2",
   "metadata": {},
   "outputs": [
    {
     "name": "stdout",
     "output_type": "stream",
     "text": [
      "(9, 'ASHUTOSH', 25)\n",
      "(11, 'ABHISHEK', 29)\n",
      "(12, 'AMIT', 28)\n",
      "(14, 'AVINASH', 27)\n",
      "(15, 'ABHISHEK', 27)\n",
      "(16, 'ASHISH', 29)\n",
      "(17, 'ASHISH', 31)\n"
     ]
    }
   ],
   "source": [
    "r=cur.execute(\"select * from friends where name like 'a%' \")\n",
    "for row in r:\n",
    "    print(row)"
   ]
  },
  {
   "cell_type": "code",
   "execution_count": 47,
   "id": "bceb8196",
   "metadata": {},
   "outputs": [
    {
     "name": "stdout",
     "output_type": "stream",
     "text": [
      "(21,)\n"
     ]
    }
   ],
   "source": [
    "r=cur.execute(\"select count(age) from friends \")\n",
    "for row in r:\n",
    "    print(row)"
   ]
  },
  {
   "cell_type": "code",
   "execution_count": 48,
   "id": "5e903162",
   "metadata": {},
   "outputs": [
    {
     "name": "stdout",
     "output_type": "stream",
     "text": [
      "(21,)\n"
     ]
    }
   ],
   "source": [
    "r=cur.execute(\"select count(name) from friends \")\n",
    "for row in r:\n",
    "    print(row)"
   ]
  },
  {
   "cell_type": "code",
   "execution_count": 49,
   "id": "dd7d0000",
   "metadata": {},
   "outputs": [
    {
     "name": "stdout",
     "output_type": "stream",
     "text": [
      "(3, 'SHIVAM', 27)\n",
      "(4, 'VIKASH', 27)\n",
      "(14, 'AVINASH', 27)\n",
      "(15, 'ABHISHEK', 27)\n"
     ]
    }
   ],
   "source": [
    "r=cur.execute(\"select * from friends where name='gopal' or age=27 \")\n",
    "for row in r:\n",
    "    print(row)"
   ]
  },
  {
   "cell_type": "code",
   "execution_count": 50,
   "id": "3ddeaca0",
   "metadata": {},
   "outputs": [],
   "source": [
    "r=cur.execute(\"select * from friends where name='gopal' and age=27 \")\n",
    "for row in r:\n",
    "    print(row)"
   ]
  },
  {
   "cell_type": "code",
   "execution_count": 51,
   "id": "b265f71e",
   "metadata": {},
   "outputs": [
    {
     "name": "stdout",
     "output_type": "stream",
     "text": [
      "(15, 'ABHISHEK', 27)\n"
     ]
    }
   ],
   "source": [
    "r=cur.execute(\"select * from friends where name='ABHISHEK' and age=27 \")\n",
    "for row in r:\n",
    "    print(row)"
   ]
  },
  {
   "cell_type": "code",
   "execution_count": 52,
   "id": "eba63431",
   "metadata": {},
   "outputs": [
    {
     "name": "stdout",
     "output_type": "stream",
     "text": [
      "(3, 'SHIVAM', 27)\n",
      "(4, 'VIKASH', 27)\n",
      "(9, 'ASHUTOSH', 25)\n",
      "(14, 'AVINASH', 27)\n",
      "(15, 'ABHISHEK', 27)\n",
      "(19, 'BHASKAR', 26)\n",
      "(21, 'VIJAY', 25)\n"
     ]
    }
   ],
   "source": [
    "r=cur.execute(\"select * from friends where Age between 25 and 27 \")\n",
    "for row in r:\n",
    "    print(row)"
   ]
  },
  {
   "cell_type": "code",
   "execution_count": 53,
   "id": "3fc274fa",
   "metadata": {},
   "outputs": [
    {
     "name": "stdout",
     "output_type": "stream",
     "text": [
      "(1, 'SUNNY', 28)\n",
      "(2, 'SUSHIL', 28)\n",
      "(5, 'MANISH', 28)\n",
      "(6, 'SHIVNATH', 29)\n",
      "(7, 'FIROZ', 28)\n",
      "(8, 'RAHUL', 28)\n",
      "(9, 'ASHUTOSH', 25)\n",
      "(10, 'SATYAM', 28)\n",
      "(11, 'ABHISHEK', 29)\n",
      "(12, 'AMIT', 28)\n",
      "(13, 'DEEPAK', 29)\n",
      "(16, 'ASHISH', 29)\n",
      "(17, 'ASHISH', 31)\n",
      "(18, 'PRAKHAR', 29)\n",
      "(19, 'BHASKAR', 26)\n",
      "(20, 'NITESH', 29)\n",
      "(21, 'VIJAY', 25)\n"
     ]
    }
   ],
   "source": [
    "r=cur.execute(\"select * from friends where Age not in (27) \")\n",
    "for row in r:\n",
    "    print(row)"
   ]
  },
  {
   "cell_type": "code",
   "execution_count": 54,
   "id": "25581ea0",
   "metadata": {},
   "outputs": [
    {
     "name": "stdout",
     "output_type": "stream",
     "text": [
      "(3, 'SHIVAM', 27)\n",
      "(4, 'VIKASH', 27)\n",
      "(14, 'AVINASH', 27)\n",
      "(15, 'ABHISHEK', 27)\n"
     ]
    }
   ],
   "source": [
    "r=cur.execute(\"select * from friends where Age in (27) \")\n",
    "for row in r:\n",
    "    print(row)"
   ]
  },
  {
   "cell_type": "code",
   "execution_count": 55,
   "id": "2ee238f4",
   "metadata": {},
   "outputs": [],
   "source": [
    "r=cur.execute(\"select * from friends where Age is null \")\n",
    "for row in r:\n",
    "    print(row)"
   ]
  },
  {
   "cell_type": "code",
   "execution_count": 56,
   "id": "916e670c",
   "metadata": {},
   "outputs": [
    {
     "name": "stdout",
     "output_type": "stream",
     "text": [
      "(1, 'SUNNY', 28)\n",
      "(2, 'SUSHIL', 28)\n",
      "(3, 'SHIVAM', 27)\n",
      "(4, 'VIKASH', 27)\n",
      "(5, 'MANISH', 28)\n",
      "(6, 'SHIVNATH', 29)\n",
      "(7, 'FIROZ', 28)\n",
      "(8, 'RAHUL', 28)\n",
      "(9, 'ASHUTOSH', 25)\n",
      "(10, 'SATYAM', 28)\n",
      "(11, 'ABHISHEK', 29)\n",
      "(12, 'AMIT', 28)\n",
      "(13, 'DEEPAK', 29)\n",
      "(14, 'AVINASH', 27)\n",
      "(15, 'ABHISHEK', 27)\n",
      "(16, 'ASHISH', 29)\n",
      "(17, 'ASHISH', 31)\n",
      "(18, 'PRAKHAR', 29)\n",
      "(19, 'BHASKAR', 26)\n",
      "(20, 'NITESH', 29)\n",
      "(21, 'VIJAY', 25)\n"
     ]
    }
   ],
   "source": [
    "r=cur.execute(\"select * from friends where Age is not null \")\n",
    "for row in r:\n",
    "    print(row)"
   ]
  },
  {
   "cell_type": "code",
   "execution_count": 59,
   "id": "853becce",
   "metadata": {},
   "outputs": [],
   "source": [
    "cur.execute(\"delete from friends where roll in (1,3,5,7)\")\n",
    "db.commit()"
   ]
  },
  {
   "cell_type": "code",
   "execution_count": 60,
   "id": "01514b62",
   "metadata": {},
   "outputs": [
    {
     "name": "stdout",
     "output_type": "stream",
     "text": [
      "(2, 'SUSHIL', 28)\n",
      "(3, 'SHIVAM', 27)\n",
      "(4, 'VIKASH', 27)\n",
      "(5, 'MANISH', 28)\n",
      "(6, 'SHIVNATH', 29)\n",
      "(7, 'FIROZ', 28)\n",
      "(8, 'RAHUL', 28)\n",
      "(9, 'ASHUTOSH', 25)\n",
      "(10, 'SATYAM', 28)\n",
      "(11, 'ABHISHEK', 29)\n",
      "(12, 'AMIT', 28)\n",
      "(13, 'DEEPAK', 29)\n",
      "(14, 'AVINASH', 27)\n",
      "(15, 'ABHISHEK', 27)\n",
      "(16, 'ASHISH', 29)\n",
      "(17, 'ASHISH', 31)\n",
      "(18, 'PRAKHAR', 29)\n",
      "(19, 'BHASKAR', 26)\n",
      "(20, 'NITESH', 29)\n",
      "(21, 'VIJAY', 25)\n"
     ]
    }
   ],
   "source": [
    "r=cur.execute(\"select * from friends\")\n",
    "for row in r:\n",
    "    print(row)"
   ]
  },
  {
   "cell_type": "code",
   "execution_count": 61,
   "id": "11b3b03f",
   "metadata": {},
   "outputs": [],
   "source": [
    "cur.execute(\"delete from friends where roll in (1,3,5,7)\")\n",
    "db.commit()"
   ]
  },
  {
   "cell_type": "code",
   "execution_count": 62,
   "id": "87358a7a",
   "metadata": {},
   "outputs": [
    {
     "name": "stdout",
     "output_type": "stream",
     "text": [
      "(2, 'SUSHIL', 28)\n",
      "(4, 'VIKASH', 27)\n",
      "(6, 'SHIVNATH', 29)\n",
      "(8, 'RAHUL', 28)\n",
      "(9, 'ASHUTOSH', 25)\n",
      "(10, 'SATYAM', 28)\n",
      "(11, 'ABHISHEK', 29)\n",
      "(12, 'AMIT', 28)\n",
      "(13, 'DEEPAK', 29)\n",
      "(14, 'AVINASH', 27)\n",
      "(15, 'ABHISHEK', 27)\n",
      "(16, 'ASHISH', 29)\n",
      "(17, 'ASHISH', 31)\n",
      "(18, 'PRAKHAR', 29)\n",
      "(19, 'BHASKAR', 26)\n",
      "(20, 'NITESH', 29)\n",
      "(21, 'VIJAY', 25)\n"
     ]
    }
   ],
   "source": [
    "r=cur.execute(\"select * from friends\")\n",
    "for row in r:\n",
    "    print(row)"
   ]
  },
  {
   "cell_type": "code",
   "execution_count": 63,
   "id": "517647ef",
   "metadata": {},
   "outputs": [
    {
     "ename": "OperationalError",
     "evalue": "no such table: freinds",
     "output_type": "error",
     "traceback": [
      "\u001b[1;31m---------------------------------------------------------------------------\u001b[0m",
      "\u001b[1;31mOperationalError\u001b[0m                          Traceback (most recent call last)",
      "\u001b[1;32m~\\AppData\\Local\\Temp/ipykernel_6356/604081922.py\u001b[0m in \u001b[0;36m<module>\u001b[1;34m\u001b[0m\n\u001b[1;32m----> 1\u001b[1;33m \u001b[0mcur\u001b[0m\u001b[1;33m.\u001b[0m\u001b[0mexecute\u001b[0m\u001b[1;33m(\u001b[0m\u001b[1;34m\"drop table freinds\"\u001b[0m\u001b[1;33m)\u001b[0m\u001b[1;33m\u001b[0m\u001b[1;33m\u001b[0m\u001b[0m\n\u001b[0m\u001b[0;32m      2\u001b[0m \u001b[0mdb\u001b[0m\u001b[1;33m.\u001b[0m\u001b[0mcommit\u001b[0m\u001b[1;33m(\u001b[0m\u001b[1;33m)\u001b[0m\u001b[1;33m\u001b[0m\u001b[1;33m\u001b[0m\u001b[0m\n",
      "\u001b[1;31mOperationalError\u001b[0m: no such table: freinds"
     ]
    }
   ],
   "source": [
    "cur.execute(\"drop table freinds\")\n",
    "db.commit()"
   ]
  },
  {
   "cell_type": "code",
   "execution_count": 67,
   "id": "07329bc9",
   "metadata": {},
   "outputs": [],
   "source": [
    "db.close()"
   ]
  },
  {
   "cell_type": "code",
   "execution_count": null,
   "id": "83f09c37",
   "metadata": {},
   "outputs": [],
   "source": []
  }
 ],
 "metadata": {
  "kernelspec": {
   "display_name": "Python 3 (ipykernel)",
   "language": "python",
   "name": "python3"
  },
  "language_info": {
   "codemirror_mode": {
    "name": "ipython",
    "version": 3
   },
   "file_extension": ".py",
   "mimetype": "text/x-python",
   "name": "python",
   "nbconvert_exporter": "python",
   "pygments_lexer": "ipython3",
   "version": "3.9.7"
  }
 },
 "nbformat": 4,
 "nbformat_minor": 5
}
