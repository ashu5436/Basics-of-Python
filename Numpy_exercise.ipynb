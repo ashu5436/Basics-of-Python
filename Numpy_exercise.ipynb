{
 "cells": [
  {
   "cell_type": "markdown",
   "id": "a8667f8a",
   "metadata": {},
   "source": [
    "# Numpy"
   ]
  },
  {
   "cell_type": "code",
   "execution_count": 158,
   "id": "f3c7cb1c",
   "metadata": {},
   "outputs": [],
   "source": [
    "import numpy as np\n",
    "from numpy import random\n",
    "from numpy.random import random,rand,randn,randint"
   ]
  },
  {
   "cell_type": "markdown",
   "id": "321e8e1f",
   "metadata": {},
   "source": [
    "### One-dimensional array or vector"
   ]
  },
  {
   "cell_type": "code",
   "execution_count": 58,
   "id": "faefc915",
   "metadata": {},
   "outputs": [
    {
     "data": {
      "text/plain": [
       "array([1, 2, 3, 4, 5, 6])"
      ]
     },
     "execution_count": 58,
     "metadata": {},
     "output_type": "execute_result"
    }
   ],
   "source": [
    "a=np.array([1,2,3,4,5,6],dtype=int)\n",
    "a"
   ]
  },
  {
   "cell_type": "code",
   "execution_count": 180,
   "id": "e3248a9b",
   "metadata": {},
   "outputs": [
    {
     "data": {
      "text/plain": [
       "array([nan,  2.,  3.,  4.,  5., nan])"
      ]
     },
     "execution_count": 180,
     "metadata": {},
     "output_type": "execute_result"
    }
   ],
   "source": [
    "a=np.array([np.nan,2,3,4,5,np.nan],dtype='float64')\n",
    "a"
   ]
  },
  {
   "cell_type": "code",
   "execution_count": 59,
   "id": "c26e4f3f",
   "metadata": {},
   "outputs": [
    {
     "data": {
      "text/plain": [
       "array([1., 2., 3., 4., 5., 6.])"
      ]
     },
     "execution_count": 59,
     "metadata": {},
     "output_type": "execute_result"
    }
   ],
   "source": [
    "a=np.array([1,2,3,4,5,6],dtype=float)\n",
    "a"
   ]
  },
  {
   "cell_type": "code",
   "execution_count": 63,
   "id": "2d07b9df",
   "metadata": {},
   "outputs": [
    {
     "data": {
      "text/plain": [
       "array([1., 2., 3., 4., 5., 6.], dtype=float32)"
      ]
     },
     "execution_count": 63,
     "metadata": {},
     "output_type": "execute_result"
    }
   ],
   "source": [
    "a=np.array([1,2,3,4,5,6],dtype='float32')\n",
    "a"
   ]
  },
  {
   "cell_type": "code",
   "execution_count": 194,
   "id": "3324bcbf",
   "metadata": {},
   "outputs": [
    {
     "data": {
      "text/plain": [
       "array([1, 3, 6, 8, 9, 2], dtype=int64)"
      ]
     },
     "execution_count": 194,
     "metadata": {},
     "output_type": "execute_result"
    }
   ],
   "source": [
    "a=np.array([1.2,3.4,6.7,8.9,9.0,2.33],dtype='int64')\n",
    "a"
   ]
  },
  {
   "cell_type": "code",
   "execution_count": 139,
   "id": "aac05095",
   "metadata": {},
   "outputs": [
    {
     "data": {
      "text/plain": [
       "6"
      ]
     },
     "execution_count": 139,
     "metadata": {},
     "output_type": "execute_result"
    }
   ],
   "source": [
    "a.size"
   ]
  },
  {
   "cell_type": "markdown",
   "id": "1232d86c",
   "metadata": {},
   "source": [
    "### INDEXING AND SLICING IN ONE-DIMENSION ARRAY OR VECTOR"
   ]
  },
  {
   "cell_type": "code",
   "execution_count": 195,
   "id": "a40649b0",
   "metadata": {},
   "outputs": [
    {
     "name": "stdout",
     "output_type": "stream",
     "text": [
      "1\n",
      "2\n",
      "8\n"
     ]
    }
   ],
   "source": [
    "#INDEXING\n",
    "print(a[0])\n",
    "print(a[-1])\n",
    "print(a[3])"
   ]
  },
  {
   "cell_type": "code",
   "execution_count": 196,
   "id": "b6836be7",
   "metadata": {},
   "outputs": [
    {
     "data": {
      "text/plain": [
       "1"
      ]
     },
     "execution_count": 196,
     "metadata": {},
     "output_type": "execute_result"
    }
   ],
   "source": [
    "a[-6]\n"
   ]
  },
  {
   "cell_type": "code",
   "execution_count": 156,
   "id": "fd1e11e9",
   "metadata": {},
   "outputs": [
    {
     "name": "stdout",
     "output_type": "stream",
     "text": [
      "[4 3 6]\n",
      "[8 9]\n",
      "[8 9]\n"
     ]
    }
   ],
   "source": [
    "#SLICING\n",
    "print(a[0:3])\n",
    "print(a[-3:-1]) #we always tend to right direction.Ergo,we cant take here print(a[-1:-3])\n",
    "print(a[3:5])"
   ]
  },
  {
   "cell_type": "code",
   "execution_count": 70,
   "id": "8827a89f",
   "metadata": {},
   "outputs": [
    {
     "data": {
      "text/plain": [
       "8"
      ]
     },
     "execution_count": 70,
     "metadata": {},
     "output_type": "execute_result"
    }
   ],
   "source": [
    "a.itemsize"
   ]
  },
  {
   "cell_type": "code",
   "execution_count": 71,
   "id": "8ba6ddc6",
   "metadata": {},
   "outputs": [
    {
     "data": {
      "text/plain": [
       "(6,)"
      ]
     },
     "execution_count": 71,
     "metadata": {},
     "output_type": "execute_result"
    }
   ],
   "source": [
    "a.shape"
   ]
  },
  {
   "cell_type": "code",
   "execution_count": 72,
   "id": "384989b0",
   "metadata": {},
   "outputs": [
    {
     "data": {
      "text/plain": [
       "array([1, 3, 6, 8, 9, 2], dtype=int64)"
      ]
     },
     "execution_count": 72,
     "metadata": {},
     "output_type": "execute_result"
    }
   ],
   "source": [
    "a.ravel()"
   ]
  },
  {
   "cell_type": "code",
   "execution_count": 73,
   "id": "95ef3d05",
   "metadata": {},
   "outputs": [
    {
     "data": {
      "text/plain": [
       "9"
      ]
     },
     "execution_count": 73,
     "metadata": {},
     "output_type": "execute_result"
    }
   ],
   "source": [
    "a.max()"
   ]
  },
  {
   "cell_type": "code",
   "execution_count": 74,
   "id": "192e0002",
   "metadata": {},
   "outputs": [
    {
     "data": {
      "text/plain": [
       "1"
      ]
     },
     "execution_count": 74,
     "metadata": {},
     "output_type": "execute_result"
    }
   ],
   "source": [
    "a.min()"
   ]
  },
  {
   "cell_type": "code",
   "execution_count": 75,
   "id": "80978d6e",
   "metadata": {},
   "outputs": [
    {
     "data": {
      "text/plain": [
       "4"
      ]
     },
     "execution_count": 75,
     "metadata": {},
     "output_type": "execute_result"
    }
   ],
   "source": [
    "a.argmax()"
   ]
  },
  {
   "cell_type": "code",
   "execution_count": 76,
   "id": "6ec422e5",
   "metadata": {},
   "outputs": [
    {
     "data": {
      "text/plain": [
       "0"
      ]
     },
     "execution_count": 76,
     "metadata": {},
     "output_type": "execute_result"
    }
   ],
   "source": [
    "a.argmin()"
   ]
  },
  {
   "cell_type": "code",
   "execution_count": 78,
   "id": "60ee4e0d",
   "metadata": {},
   "outputs": [
    {
     "data": {
      "text/plain": [
       "dtype('int64')"
      ]
     },
     "execution_count": 78,
     "metadata": {},
     "output_type": "execute_result"
    }
   ],
   "source": [
    "a.dtype"
   ]
  },
  {
   "cell_type": "code",
   "execution_count": 79,
   "id": "56b12443",
   "metadata": {},
   "outputs": [
    {
     "data": {
      "text/plain": [
       "1"
      ]
     },
     "execution_count": 79,
     "metadata": {},
     "output_type": "execute_result"
    }
   ],
   "source": [
    "a.ndim"
   ]
  },
  {
   "cell_type": "markdown",
   "id": "72bb7f51",
   "metadata": {},
   "source": [
    "### two-dimensional array or matrix"
   ]
  },
  {
   "cell_type": "code",
   "execution_count": 66,
   "id": "16f4892a",
   "metadata": {},
   "outputs": [
    {
     "data": {
      "text/plain": [
       "array([[1., 2., 3.],\n",
       "       [4., 5., 6.],\n",
       "       [7., 8., 9.]])"
      ]
     },
     "execution_count": 66,
     "metadata": {},
     "output_type": "execute_result"
    }
   ],
   "source": [
    "a=np.array([[1,2,3],[4,5,6],[7,8,9]],dtype=float)\n",
    "a"
   ]
  },
  {
   "cell_type": "code",
   "execution_count": 144,
   "id": "ff8300ce",
   "metadata": {},
   "outputs": [
    {
     "data": {
      "text/plain": [
       "array([[1, 2, 4],\n",
       "       [3, 5, 7],\n",
       "       [9, 8, 6]])"
      ]
     },
     "execution_count": 144,
     "metadata": {},
     "output_type": "execute_result"
    }
   ],
   "source": [
    "b=np.array([[1.6,2.3,4.5],[3.4,5.6,7],[9.8,8.0,6]],dtype=int)\n",
    "b"
   ]
  },
  {
   "cell_type": "markdown",
   "id": "d0f4bfd0",
   "metadata": {},
   "source": [
    "### INDEXING AND SLICING IN ONE-DIMENSION ARRAY OR VECTOR"
   ]
  },
  {
   "cell_type": "code",
   "execution_count": 147,
   "id": "24f8d1d8",
   "metadata": {},
   "outputs": [
    {
     "name": "stdout",
     "output_type": "stream",
     "text": [
      "1\n",
      "8\n",
      "8\n"
     ]
    }
   ],
   "source": [
    "print(b[0][0])\n",
    "print(b[2][1])\n",
    "#or we can write as-\n",
    "print(b[2,1])"
   ]
  },
  {
   "cell_type": "code",
   "execution_count": 149,
   "id": "8d065ac7",
   "metadata": {},
   "outputs": [
    {
     "name": "stdout",
     "output_type": "stream",
     "text": [
      "[[3 5]]\n",
      "[[8 6]]\n",
      "[[3 5]\n",
      " [9 8]]\n"
     ]
    }
   ],
   "source": [
    "print(b[1:2,0:2])\n",
    "print(b[2:,1:])\n",
    "print(b[1:,0:2])"
   ]
  },
  {
   "cell_type": "code",
   "execution_count": 151,
   "id": "eb205ffe",
   "metadata": {},
   "outputs": [
    {
     "data": {
      "text/plain": [
       "array([[1, 2, 4],\n",
       "       [3, 6, 6],\n",
       "       [9, 8, 6]])"
      ]
     },
     "execution_count": 151,
     "metadata": {},
     "output_type": "execute_result"
    }
   ],
   "source": [
    "b[1,1]=6\n",
    "b"
   ]
  },
  {
   "cell_type": "code",
   "execution_count": 152,
   "id": "e001d089",
   "metadata": {},
   "outputs": [
    {
     "data": {
      "text/plain": [
       "array([[1, 2, 4],\n",
       "       [3, 6, 7],\n",
       "       [9, 8, 6]])"
      ]
     },
     "execution_count": 152,
     "metadata": {},
     "output_type": "execute_result"
    }
   ],
   "source": [
    "b[1,2]=7\n",
    "b"
   ]
  },
  {
   "cell_type": "code",
   "execution_count": 80,
   "id": "41303ba9",
   "metadata": {},
   "outputs": [
    {
     "data": {
      "text/plain": [
       "9"
      ]
     },
     "execution_count": 80,
     "metadata": {},
     "output_type": "execute_result"
    }
   ],
   "source": [
    "b.size"
   ]
  },
  {
   "cell_type": "code",
   "execution_count": 81,
   "id": "b6d00a85",
   "metadata": {},
   "outputs": [
    {
     "data": {
      "text/plain": [
       "4"
      ]
     },
     "execution_count": 81,
     "metadata": {},
     "output_type": "execute_result"
    }
   ],
   "source": [
    "b.itemsize"
   ]
  },
  {
   "cell_type": "code",
   "execution_count": 82,
   "id": "f1c882df",
   "metadata": {},
   "outputs": [
    {
     "data": {
      "text/plain": [
       "(3, 3)"
      ]
     },
     "execution_count": 82,
     "metadata": {},
     "output_type": "execute_result"
    }
   ],
   "source": [
    "b.shape"
   ]
  },
  {
   "cell_type": "code",
   "execution_count": 83,
   "id": "f9b0e7d8",
   "metadata": {},
   "outputs": [
    {
     "data": {
      "text/plain": [
       "array([1, 2, 4, 3, 5, 7, 9, 8, 6])"
      ]
     },
     "execution_count": 83,
     "metadata": {},
     "output_type": "execute_result"
    }
   ],
   "source": [
    "b.ravel()"
   ]
  },
  {
   "cell_type": "code",
   "execution_count": 84,
   "id": "2c653bb0",
   "metadata": {},
   "outputs": [
    {
     "name": "stdout",
     "output_type": "stream",
     "text": [
      "9\n",
      "6\n",
      "1\n",
      "0\n"
     ]
    }
   ],
   "source": [
    "print(b.max())\n",
    "print(b.argmax())\n",
    "print(b.min())\n",
    "print(b.argmin())"
   ]
  },
  {
   "cell_type": "code",
   "execution_count": 85,
   "id": "0fd6b3e5",
   "metadata": {},
   "outputs": [
    {
     "data": {
      "text/plain": [
       "dtype('int32')"
      ]
     },
     "execution_count": 85,
     "metadata": {},
     "output_type": "execute_result"
    }
   ],
   "source": [
    "b.dtype"
   ]
  },
  {
   "cell_type": "code",
   "execution_count": 86,
   "id": "58aa6bb8",
   "metadata": {},
   "outputs": [
    {
     "data": {
      "text/plain": [
       "2"
      ]
     },
     "execution_count": 86,
     "metadata": {},
     "output_type": "execute_result"
    }
   ],
   "source": [
    "b.ndim"
   ]
  },
  {
   "cell_type": "markdown",
   "id": "ccf980e1",
   "metadata": {},
   "source": [
    "### One-dimesional array with the help of ARANGE function"
   ]
  },
  {
   "cell_type": "code",
   "execution_count": 88,
   "id": "f408db62",
   "metadata": {},
   "outputs": [
    {
     "data": {
      "text/plain": [
       "array([ 0,  2,  4,  6,  8, 10, 12, 14, 16, 18])"
      ]
     },
     "execution_count": 88,
     "metadata": {},
     "output_type": "execute_result"
    }
   ],
   "source": [
    "# first elemnt(0) will get included but last element(20) will excluded from the list(start,stop,step)\n",
    "x=np.arange(0,20,2)\n",
    "x"
   ]
  },
  {
   "cell_type": "code",
   "execution_count": 90,
   "id": "db664eed",
   "metadata": {},
   "outputs": [
    {
     "name": "stdout",
     "output_type": "stream",
     "text": [
      "10\n",
      "4\n",
      "18\n",
      "9\n",
      "0\n",
      "0\n",
      "[ 0  2  4  6  8 10 12 14 16 18]\n",
      "1\n",
      "int32\n"
     ]
    }
   ],
   "source": [
    "print(x.size)\n",
    "print(x.itemsize)\n",
    "print(x.max())\n",
    "print(x.argmax())\n",
    "print(x.min())\n",
    "print(x.argmin())\n",
    "print(x.ravel())\n",
    "print(x.ndim)\n",
    "print(x.dtype)"
   ]
  },
  {
   "cell_type": "markdown",
   "id": "5787958f",
   "metadata": {},
   "source": [
    "### two-dimesional array with the help of ARANGE function"
   ]
  },
  {
   "cell_type": "code",
   "execution_count": 94,
   "id": "397abb9f",
   "metadata": {},
   "outputs": [
    {
     "data": {
      "text/plain": [
       "array([[ 0,  2],\n",
       "       [ 4,  6],\n",
       "       [ 8, 10],\n",
       "       [12, 14],\n",
       "       [16, 18]])"
      ]
     },
     "execution_count": 94,
     "metadata": {},
     "output_type": "execute_result"
    }
   ],
   "source": [
    "x=np.arange(0,20,2).reshape(5,2)\n",
    "x"
   ]
  },
  {
   "cell_type": "code",
   "execution_count": 95,
   "id": "3793524b",
   "metadata": {},
   "outputs": [
    {
     "name": "stdout",
     "output_type": "stream",
     "text": [
      "10\n",
      "4\n",
      "18\n",
      "9\n",
      "0\n",
      "0\n",
      "[ 0  2  4  6  8 10 12 14 16 18]\n",
      "2\n",
      "int32\n"
     ]
    }
   ],
   "source": [
    "print(x.size)\n",
    "print(x.itemsize)\n",
    "print(x.max())\n",
    "print(x.argmax())\n",
    "print(x.min())\n",
    "print(x.argmin())\n",
    "print(x.ravel())\n",
    "print(x.ndim)\n",
    "print(x.dtype)"
   ]
  },
  {
   "cell_type": "markdown",
   "id": "8f2e35a8",
   "metadata": {},
   "source": [
    "### One-dimesional array with the help of LINSPACE function"
   ]
  },
  {
   "cell_type": "code",
   "execution_count": 96,
   "id": "58e331c0",
   "metadata": {},
   "outputs": [
    {
     "data": {
      "text/plain": [
       "array([ 0.        ,  2.22222222,  4.44444444,  6.66666667,  8.88888889,\n",
       "       11.11111111, 13.33333333, 15.55555556, 17.77777778, 20.        ])"
      ]
     },
     "execution_count": 96,
     "metadata": {},
     "output_type": "execute_result"
    }
   ],
   "source": [
    "# first elemnt(0) will get included as well as last element(20) will also get included from the list(start,end,total element)\n",
    "x=np.linspace(0,20,10)\n",
    "x"
   ]
  },
  {
   "cell_type": "code",
   "execution_count": 97,
   "id": "b2ddf3e9",
   "metadata": {},
   "outputs": [
    {
     "name": "stdout",
     "output_type": "stream",
     "text": [
      "10\n",
      "8\n",
      "20.0\n",
      "9\n",
      "0.0\n",
      "0\n",
      "[ 0.          2.22222222  4.44444444  6.66666667  8.88888889 11.11111111\n",
      " 13.33333333 15.55555556 17.77777778 20.        ]\n",
      "1\n",
      "float64\n"
     ]
    }
   ],
   "source": [
    "print(x.size)\n",
    "print(x.itemsize)\n",
    "print(x.max())\n",
    "print(x.argmax())\n",
    "print(x.min())\n",
    "print(x.argmin())\n",
    "print(x.ravel())\n",
    "print(x.ndim)\n",
    "print(x.dtype)"
   ]
  },
  {
   "cell_type": "markdown",
   "id": "9dafeaea",
   "metadata": {},
   "source": [
    "### TWO-dimesional array with the help of LINSPACE function"
   ]
  },
  {
   "cell_type": "code",
   "execution_count": 100,
   "id": "80cc5cde",
   "metadata": {},
   "outputs": [
    {
     "data": {
      "text/plain": [
       "array([[ 0.        ,  2.22222222],\n",
       "       [ 4.44444444,  6.66666667],\n",
       "       [ 8.88888889, 11.11111111],\n",
       "       [13.33333333, 15.55555556],\n",
       "       [17.77777778, 20.        ]])"
      ]
     },
     "execution_count": 100,
     "metadata": {},
     "output_type": "execute_result"
    }
   ],
   "source": [
    "x=np.linspace(0,20,10).reshape(5,2)\n",
    "x"
   ]
  },
  {
   "cell_type": "code",
   "execution_count": 101,
   "id": "959a3db9",
   "metadata": {},
   "outputs": [
    {
     "name": "stdout",
     "output_type": "stream",
     "text": [
      "10\n",
      "8\n",
      "20.0\n",
      "9\n",
      "0.0\n",
      "0\n",
      "[ 0.          2.22222222  4.44444444  6.66666667  8.88888889 11.11111111\n",
      " 13.33333333 15.55555556 17.77777778 20.        ]\n",
      "2\n",
      "float64\n"
     ]
    }
   ],
   "source": [
    "print(x.size)\n",
    "print(x.itemsize)\n",
    "print(x.max())\n",
    "print(x.argmax())\n",
    "print(x.min())\n",
    "print(x.argmin())\n",
    "print(x.ravel())\n",
    "print(x.ndim)\n",
    "print(x.dtype)"
   ]
  },
  {
   "cell_type": "markdown",
   "id": "d66d220a",
   "metadata": {},
   "source": [
    "### One-dimesional array with the help of RANDOM function"
   ]
  },
  {
   "cell_type": "code",
   "execution_count": 109,
   "id": "6de34723",
   "metadata": {},
   "outputs": [
    {
     "data": {
      "text/plain": [
       "array([0.32566118, 0.81567468, 0.70946059, 0.57983326])"
      ]
     },
     "execution_count": 109,
     "metadata": {},
     "output_type": "execute_result"
    }
   ],
   "source": [
    "#np.random.random([Rows,Columns]) or; np.random.rand() it takes element b/w 0 to 1.\n",
    "x=random([4])\n",
    "x"
   ]
  },
  {
   "cell_type": "code",
   "execution_count": 110,
   "id": "55d9210e",
   "metadata": {},
   "outputs": [
    {
     "name": "stdout",
     "output_type": "stream",
     "text": [
      "4\n",
      "8\n",
      "0.8156746824026072\n",
      "1\n",
      "0.325661177329998\n",
      "0\n",
      "[0.32566118 0.81567468 0.70946059 0.57983326]\n",
      "1\n",
      "float64\n"
     ]
    }
   ],
   "source": [
    "print(x.size)\n",
    "print(x.itemsize)\n",
    "print(x.max())\n",
    "print(x.argmax())\n",
    "print(x.min())\n",
    "print(x.argmin())\n",
    "print(x.ravel())\n",
    "print(x.ndim)\n",
    "print(x.dtype)"
   ]
  },
  {
   "cell_type": "code",
   "execution_count": 111,
   "id": "55c7b69f",
   "metadata": {},
   "outputs": [
    {
     "data": {
      "text/plain": [
       "array([0.24766746, 0.34676232])"
      ]
     },
     "execution_count": 111,
     "metadata": {},
     "output_type": "execute_result"
    }
   ],
   "source": [
    "x=rand(2)\n",
    "x"
   ]
  },
  {
   "cell_type": "code",
   "execution_count": null,
   "id": "d9a6c208",
   "metadata": {},
   "outputs": [],
   "source": [
    "print(x.size)\n",
    "print(x.itemsize)\n",
    "print(x.max())\n",
    "print(x.argmax())\n",
    "print(x.min())\n",
    "print(x.argmin())\n",
    "print(x.ravel())\n",
    "print(x.ndim)\n",
    "print(x.dtype)"
   ]
  },
  {
   "cell_type": "code",
   "execution_count": 112,
   "id": "17da9c51",
   "metadata": {},
   "outputs": [
    {
     "data": {
      "text/plain": [
       "array([-1.27904965, -1.82371168,  0.74562892,  0.1651911 , -1.04908505,\n",
       "       -1.35267951,  0.07631532,  0.87786298,  1.63508166])"
      ]
     },
     "execution_count": 112,
     "metadata": {},
     "output_type": "execute_result"
    }
   ],
   "source": [
    "#np.random.randn() it takes element b/w postive,negative and zero.it's use for gaussian and normal distribution\n",
    "x=randn(9)\n",
    "x"
   ]
  },
  {
   "cell_type": "code",
   "execution_count": 197,
   "id": "26029f57",
   "metadata": {},
   "outputs": [
    {
     "name": "stdout",
     "output_type": "stream",
     "text": [
      "10\n",
      "4\n",
      "6\n",
      "1\n",
      "5\n",
      "0\n",
      "[5 6 5 6 6 5 6 5 6 5]\n",
      "2\n",
      "int32\n"
     ]
    }
   ],
   "source": [
    "randint(4)\n",
    "print(x.size)\n",
    "print(x.itemsize)\n",
    "print(x.max())\n",
    "print(x.argmax())\n",
    "print(x.min())\n",
    "print(x.argmin())\n",
    "print(x.ravel())\n",
    "print(x.ndim)\n",
    "print(x.dtype)"
   ]
  },
  {
   "cell_type": "markdown",
   "id": "06348a26",
   "metadata": {},
   "source": [
    "### Two-dimesional array with the help of RANDOM function"
   ]
  },
  {
   "cell_type": "code",
   "execution_count": 114,
   "id": "ae33e5e5",
   "metadata": {},
   "outputs": [
    {
     "data": {
      "text/plain": [
       "array([[0.52622367, 0.77620134, 0.90002302, 0.05791763, 0.81531362],\n",
       "       [0.20212935, 0.62093182, 0.84851753, 0.25331426, 0.08604815],\n",
       "       [0.60019687, 0.77997069, 0.72188914, 0.85468937, 0.29295976],\n",
       "       [0.36121737, 0.27433423, 0.63116069, 0.43405016, 0.44964522]])"
      ]
     },
     "execution_count": 114,
     "metadata": {},
     "output_type": "execute_result"
    }
   ],
   "source": [
    "#np.random.random([Rows,Columns]) or; np.random.rand() it takes element b/w 0 to 1.\n",
    "x=random([4,5])\n",
    "x"
   ]
  },
  {
   "cell_type": "code",
   "execution_count": 115,
   "id": "03715509",
   "metadata": {},
   "outputs": [
    {
     "name": "stdout",
     "output_type": "stream",
     "text": [
      "20\n",
      "8\n",
      "0.9000230177335913\n",
      "2\n",
      "0.05791763068895883\n",
      "3\n",
      "[0.52622367 0.77620134 0.90002302 0.05791763 0.81531362 0.20212935\n",
      " 0.62093182 0.84851753 0.25331426 0.08604815 0.60019687 0.77997069\n",
      " 0.72188914 0.85468937 0.29295976 0.36121737 0.27433423 0.63116069\n",
      " 0.43405016 0.44964522]\n",
      "2\n",
      "float64\n"
     ]
    }
   ],
   "source": [
    "print(x.size)\n",
    "print(x.itemsize)\n",
    "print(x.max())\n",
    "print(x.argmax())\n",
    "print(x.min())\n",
    "print(x.argmin())\n",
    "print(x.ravel())\n",
    "print(x.ndim)\n",
    "print(x.dtype)"
   ]
  },
  {
   "cell_type": "code",
   "execution_count": 198,
   "id": "df6c412e",
   "metadata": {},
   "outputs": [
    {
     "data": {
      "text/plain": [
       "array([[0.99358326, 0.33310862, 0.70828662, 0.27224218, 0.14758381],\n",
       "       [0.79556636, 0.17866129, 0.41573003, 0.41067897, 0.5361405 ],\n",
       "       [0.79608777, 0.61940953, 0.06034931, 0.65078419, 0.39392423],\n",
       "       [0.84377007, 0.1618599 , 0.54638848, 0.39343229, 0.63799697]])"
      ]
     },
     "execution_count": 198,
     "metadata": {},
     "output_type": "execute_result"
    }
   ],
   "source": [
    "x=rand(4,5)\n",
    "x"
   ]
  },
  {
   "cell_type": "code",
   "execution_count": 199,
   "id": "13628345",
   "metadata": {},
   "outputs": [
    {
     "name": "stdout",
     "output_type": "stream",
     "text": [
      "20\n",
      "8\n",
      "0.9935832594109946\n",
      "0\n",
      "0.06034930924012594\n",
      "12\n",
      "[0.99358326 0.33310862 0.70828662 0.27224218 0.14758381 0.79556636\n",
      " 0.17866129 0.41573003 0.41067897 0.5361405  0.79608777 0.61940953\n",
      " 0.06034931 0.65078419 0.39392423 0.84377007 0.1618599  0.54638848\n",
      " 0.39343229 0.63799697]\n",
      "2\n",
      "float64\n"
     ]
    }
   ],
   "source": [
    "print(x.size)\n",
    "print(x.itemsize)\n",
    "print(x.max())\n",
    "print(x.argmax())\n",
    "print(x.min())\n",
    "print(x.argmin())\n",
    "print(x.ravel())\n",
    "print(x.ndim)\n",
    "print(x.dtype)"
   ]
  },
  {
   "cell_type": "code",
   "execution_count": 119,
   "id": "90e87866",
   "metadata": {},
   "outputs": [
    {
     "data": {
      "text/plain": [
       "array([[ 0.08663132,  0.79446952,  0.84837802, -0.85186484],\n",
       "       [ 2.14214827, -0.78190628,  2.57773192,  0.75325759],\n",
       "       [ 0.50953857,  0.1086843 ,  1.67631748,  0.3031945 ],\n",
       "       [ 0.43544397,  2.54698935,  2.18227601, -0.78346195],\n",
       "       [ 0.24961262, -0.42211   ,  0.61771926, -0.08805976]])"
      ]
     },
     "execution_count": 119,
     "metadata": {},
     "output_type": "execute_result"
    }
   ],
   "source": [
    "#np.random.randn() it takes element b/w postive,negative and zero.it's use for gaussian and normal distribution\n",
    "x=randn(5,4)\n",
    "x"
   ]
  },
  {
   "cell_type": "code",
   "execution_count": 120,
   "id": "ad7c5b2e",
   "metadata": {},
   "outputs": [
    {
     "name": "stdout",
     "output_type": "stream",
     "text": [
      "20\n",
      "8\n",
      "2.5777319162234384\n",
      "6\n",
      "-0.8518648390535826\n",
      "3\n",
      "[ 0.08663132  0.79446952  0.84837802 -0.85186484  2.14214827 -0.78190628\n",
      "  2.57773192  0.75325759  0.50953857  0.1086843   1.67631748  0.3031945\n",
      "  0.43544397  2.54698935  2.18227601 -0.78346195  0.24961262 -0.42211\n",
      "  0.61771926 -0.08805976]\n",
      "2\n",
      "float64\n"
     ]
    }
   ],
   "source": [
    "print(x.size)\n",
    "print(x.itemsize)\n",
    "print(x.max())\n",
    "print(x.argmax())\n",
    "print(x.min())\n",
    "print(x.argmin())\n",
    "print(x.ravel())\n",
    "print(x.ndim)\n",
    "print(x.dtype)"
   ]
  },
  {
   "cell_type": "code",
   "execution_count": 201,
   "id": "f971ab07",
   "metadata": {},
   "outputs": [
    {
     "data": {
      "text/plain": [
       "array([[6, 6, 5, 6, 6],\n",
       "       [5, 5, 6, 6, 5]])"
      ]
     },
     "execution_count": 201,
     "metadata": {},
     "output_type": "execute_result"
    }
   ],
   "source": [
    "#first element can get included but last element will always get exclude\n",
    "x=randint(5,7,10).reshape(2,5)\n",
    "x"
   ]
  },
  {
   "cell_type": "markdown",
   "id": "1ff5c1ad",
   "metadata": {},
   "source": [
    "### one & two dimensional zero vector"
   ]
  },
  {
   "cell_type": "code",
   "execution_count": 130,
   "id": "40dbffbd",
   "metadata": {},
   "outputs": [
    {
     "data": {
      "text/plain": [
       "array(0.)"
      ]
     },
     "execution_count": 130,
     "metadata": {},
     "output_type": "execute_result"
    }
   ],
   "source": [
    "x=np.zeros([])\n",
    "x"
   ]
  },
  {
   "cell_type": "code",
   "execution_count": 131,
   "id": "fb55c5ab",
   "metadata": {},
   "outputs": [
    {
     "data": {
      "text/plain": [
       "array([0., 0., 0., 0.])"
      ]
     },
     "execution_count": 131,
     "metadata": {},
     "output_type": "execute_result"
    }
   ],
   "source": [
    "x=np.zeros([4])\n",
    "x"
   ]
  },
  {
   "cell_type": "code",
   "execution_count": 127,
   "id": "e872277a",
   "metadata": {},
   "outputs": [
    {
     "data": {
      "text/plain": [
       "array([[0., 0., 0., 0., 0.],\n",
       "       [0., 0., 0., 0., 0.],\n",
       "       [0., 0., 0., 0., 0.],\n",
       "       [0., 0., 0., 0., 0.],\n",
       "       [0., 0., 0., 0., 0.]])"
      ]
     },
     "execution_count": 127,
     "metadata": {},
     "output_type": "execute_result"
    }
   ],
   "source": [
    "x=np.zeros([5,5])\n",
    "x"
   ]
  },
  {
   "cell_type": "markdown",
   "id": "6080a4b9",
   "metadata": {},
   "source": [
    "### one & two dimensional unit vector"
   ]
  },
  {
   "cell_type": "code",
   "execution_count": 128,
   "id": "5b44850e",
   "metadata": {},
   "outputs": [
    {
     "data": {
      "text/plain": [
       "array(1.)"
      ]
     },
     "execution_count": 128,
     "metadata": {},
     "output_type": "execute_result"
    }
   ],
   "source": [
    "x=np.ones([])\n",
    "x"
   ]
  },
  {
   "cell_type": "code",
   "execution_count": 129,
   "id": "cd4f4f37",
   "metadata": {},
   "outputs": [
    {
     "data": {
      "text/plain": [
       "array([1., 1., 1., 1.])"
      ]
     },
     "execution_count": 129,
     "metadata": {},
     "output_type": "execute_result"
    }
   ],
   "source": [
    "x=np.ones([4])\n",
    "x"
   ]
  },
  {
   "cell_type": "code",
   "execution_count": 132,
   "id": "13ea6b2d",
   "metadata": {},
   "outputs": [
    {
     "data": {
      "text/plain": [
       "array([[1., 1., 1., 1.],\n",
       "       [1., 1., 1., 1.],\n",
       "       [1., 1., 1., 1.]])"
      ]
     },
     "execution_count": 132,
     "metadata": {},
     "output_type": "execute_result"
    }
   ],
   "source": [
    "x=np.ones([3,4])\n",
    "x"
   ]
  },
  {
   "cell_type": "markdown",
   "id": "1308a2b5",
   "metadata": {},
   "source": [
    "### creating identity matrix"
   ]
  },
  {
   "cell_type": "code",
   "execution_count": 134,
   "id": "cd37717f",
   "metadata": {},
   "outputs": [
    {
     "data": {
      "text/plain": [
       "array([[1., 0.],\n",
       "       [0., 1.]])"
      ]
     },
     "execution_count": 134,
     "metadata": {},
     "output_type": "execute_result"
    }
   ],
   "source": [
    "x=np.eye(2)\n",
    "x"
   ]
  },
  {
   "cell_type": "code",
   "execution_count": 135,
   "id": "a4d7329d",
   "metadata": {},
   "outputs": [
    {
     "data": {
      "text/plain": [
       "array([[1., 0., 0., 0., 0.],\n",
       "       [0., 1., 0., 0., 0.],\n",
       "       [0., 0., 1., 0., 0.],\n",
       "       [0., 0., 0., 1., 0.],\n",
       "       [0., 0., 0., 0., 1.]])"
      ]
     },
     "execution_count": 135,
     "metadata": {},
     "output_type": "execute_result"
    }
   ],
   "source": [
    "x=np.eye(5)\n",
    "x"
   ]
  },
  {
   "cell_type": "markdown",
   "id": "276859ed",
   "metadata": {},
   "source": [
    "### NUMPY inbuilt functions "
   ]
  },
  {
   "cell_type": "code",
   "execution_count": 171,
   "id": "b82cde92",
   "metadata": {},
   "outputs": [
    {
     "name": "stdout",
     "output_type": "stream",
     "text": [
      "\n",
      " [[5 6 5 6 6]\n",
      " [5 6 5 6 5]]\n",
      "\n",
      " [[148.4131591  403.42879349 148.4131591  403.42879349 403.42879349]\n",
      " [148.4131591  403.42879349 148.4131591  403.42879349 148.4131591 ]]\n",
      "\n",
      " [[1.60943791 1.79175947 1.60943791 1.79175947 1.79175947]\n",
      " [1.60943791 1.79175947 1.60943791 1.79175947 1.60943791]]\n",
      "\n",
      " [[2.23606798 2.44948974 2.23606798 2.44948974 2.44948974]\n",
      " [2.23606798 2.44948974 2.23606798 2.44948974 2.23606798]]\n",
      "\n",
      " [[-0.95892427 -0.2794155  -0.95892427 -0.2794155  -0.2794155 ]\n",
      " [-0.95892427 -0.2794155  -0.95892427 -0.2794155  -0.95892427]]\n",
      "\n",
      " [[0.28366219 0.96017029 0.28366219 0.96017029 0.96017029]\n",
      " [0.28366219 0.96017029 0.28366219 0.96017029 0.28366219]]\n",
      "\n",
      " [[10 12 10 12 12]\n",
      " [10 12 10 12 10]]\n"
     ]
    }
   ],
   "source": [
    "x=randint(5,7,10).reshape(2,5)\n",
    "print(\"\\n\",x)\n",
    "print(\"\\n\",np.exp(x))\n",
    "print(\"\\n\",np.log(x))\n",
    "print(\"\\n\",np.sqrt(x))\n",
    "print(\"\\n\",np.sin(x))\n",
    "print(\"\\n\",np.cos(x))\n",
    "print(\"\\n\",np.add(x,x))"
   ]
  },
  {
   "cell_type": "markdown",
   "id": "3172c526",
   "metadata": {},
   "source": [
    "### Broadcasting in Numpy"
   ]
  },
  {
   "cell_type": "code",
   "execution_count": 172,
   "id": "9bddd9f7",
   "metadata": {},
   "outputs": [
    {
     "data": {
      "text/plain": [
       "array([[5, 6, 5, 6, 6],\n",
       "       [5, 6, 5, 6, 5]])"
      ]
     },
     "execution_count": 172,
     "metadata": {},
     "output_type": "execute_result"
    }
   ],
   "source": [
    "x"
   ]
  },
  {
   "cell_type": "code",
   "execution_count": 173,
   "id": "5c03f8f0",
   "metadata": {},
   "outputs": [
    {
     "data": {
      "text/plain": [
       "array([[15, 18, 15, 18, 18],\n",
       "       [15, 18, 15, 18, 15]])"
      ]
     },
     "execution_count": 173,
     "metadata": {},
     "output_type": "execute_result"
    }
   ],
   "source": [
    "x*3"
   ]
  },
  {
   "cell_type": "code",
   "execution_count": 174,
   "id": "ed86c8f2",
   "metadata": {},
   "outputs": [
    {
     "data": {
      "text/plain": [
       "array([[8, 9, 8, 9, 9],\n",
       "       [8, 9, 8, 9, 8]])"
      ]
     },
     "execution_count": 174,
     "metadata": {},
     "output_type": "execute_result"
    }
   ],
   "source": [
    "x+3"
   ]
  },
  {
   "cell_type": "code",
   "execution_count": 175,
   "id": "34803607",
   "metadata": {},
   "outputs": [
    {
     "data": {
      "text/plain": [
       "array([[1.66666667, 2.        , 1.66666667, 2.        , 2.        ],\n",
       "       [1.66666667, 2.        , 1.66666667, 2.        , 1.66666667]])"
      ]
     },
     "execution_count": 175,
     "metadata": {},
     "output_type": "execute_result"
    }
   ],
   "source": [
    "x/3"
   ]
  },
  {
   "cell_type": "code",
   "execution_count": 176,
   "id": "ff3a3f02",
   "metadata": {},
   "outputs": [
    {
     "data": {
      "text/plain": [
       "array([[2, 3, 2, 3, 3],\n",
       "       [2, 3, 2, 3, 2]])"
      ]
     },
     "execution_count": 176,
     "metadata": {},
     "output_type": "execute_result"
    }
   ],
   "source": [
    "x-3"
   ]
  },
  {
   "cell_type": "code",
   "execution_count": 177,
   "id": "63662a02",
   "metadata": {},
   "outputs": [
    {
     "data": {
      "text/plain": [
       "array([[5, 6, 5, 6, 6],\n",
       "       [5, 6, 5, 6, 5]])"
      ]
     },
     "execution_count": 177,
     "metadata": {},
     "output_type": "execute_result"
    }
   ],
   "source": [
    "x"
   ]
  },
  {
   "cell_type": "code",
   "execution_count": 178,
   "id": "fd2eb5ae",
   "metadata": {},
   "outputs": [
    {
     "data": {
      "text/plain": [
       "array([[25, 36, 25, 36, 36],\n",
       "       [25, 36, 25, 36, 25]], dtype=int32)"
      ]
     },
     "execution_count": 178,
     "metadata": {},
     "output_type": "execute_result"
    }
   ],
   "source": [
    "x**2"
   ]
  },
  {
   "cell_type": "code",
   "execution_count": 179,
   "id": "d0852bd3",
   "metadata": {},
   "outputs": [
    {
     "data": {
      "text/plain": [
       "array([[125, 216, 125, 216, 216],\n",
       "       [125, 216, 125, 216, 125]], dtype=int32)"
      ]
     },
     "execution_count": 179,
     "metadata": {},
     "output_type": "execute_result"
    }
   ],
   "source": [
    "x**3"
   ]
  },
  {
   "cell_type": "code",
   "execution_count": 181,
   "id": "c66bfdfb",
   "metadata": {},
   "outputs": [
    {
     "data": {
      "text/plain": [
       "array([[ True,  True,  True,  True,  True],\n",
       "       [ True,  True,  True,  True,  True]])"
      ]
     },
     "execution_count": 181,
     "metadata": {},
     "output_type": "execute_result"
    }
   ],
   "source": [
    "x>3"
   ]
  },
  {
   "cell_type": "code",
   "execution_count": 182,
   "id": "3a2346a1",
   "metadata": {},
   "outputs": [
    {
     "data": {
      "text/plain": [
       "array([5, 6, 5, 6, 6, 5, 6, 5, 6, 5])"
      ]
     },
     "execution_count": 182,
     "metadata": {},
     "output_type": "execute_result"
    }
   ],
   "source": [
    "x[x>3]"
   ]
  },
  {
   "cell_type": "code",
   "execution_count": 183,
   "id": "bf45f41b",
   "metadata": {},
   "outputs": [
    {
     "data": {
      "text/plain": [
       "array([], dtype=int32)"
      ]
     },
     "execution_count": 183,
     "metadata": {},
     "output_type": "execute_result"
    }
   ],
   "source": [
    "x[x<3]"
   ]
  },
  {
   "cell_type": "code",
   "execution_count": 187,
   "id": "8fd06ed2",
   "metadata": {},
   "outputs": [
    {
     "data": {
      "text/plain": [
       "array([[ True, False,  True, False, False],\n",
       "       [ True, False,  True, False,  True]])"
      ]
     },
     "execution_count": 187,
     "metadata": {},
     "output_type": "execute_result"
    }
   ],
   "source": [
    "x<6"
   ]
  },
  {
   "cell_type": "code",
   "execution_count": 188,
   "id": "20c0429a",
   "metadata": {},
   "outputs": [
    {
     "data": {
      "text/plain": [
       "array([5, 6, 5, 6, 6, 5, 6, 5, 6, 5])"
      ]
     },
     "execution_count": 188,
     "metadata": {},
     "output_type": "execute_result"
    }
   ],
   "source": [
    "x[x>3]"
   ]
  },
  {
   "cell_type": "code",
   "execution_count": 191,
   "id": "72e191f1",
   "metadata": {},
   "outputs": [
    {
     "data": {
      "text/plain": [
       "array([5, 5, 5, 5, 5])"
      ]
     },
     "execution_count": 191,
     "metadata": {},
     "output_type": "execute_result"
    }
   ],
   "source": [
    "x[x<6]"
   ]
  }
 ],
 "metadata": {
  "kernelspec": {
   "display_name": "Python 3 (ipykernel)",
   "language": "python",
   "name": "python3"
  },
  "language_info": {
   "codemirror_mode": {
    "name": "ipython",
    "version": 3
   },
   "file_extension": ".py",
   "mimetype": "text/x-python",
   "name": "python",
   "nbconvert_exporter": "python",
   "pygments_lexer": "ipython3",
   "version": "3.9.7"
  }
 },
 "nbformat": 4,
 "nbformat_minor": 5
}
