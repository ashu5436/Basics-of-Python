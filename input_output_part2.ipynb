{
 "cells": [
  {
   "cell_type": "markdown",
   "id": "badada9a",
   "metadata": {},
   "source": [
    "##### I/O more examples "
   ]
  },
  {
   "cell_type": "code",
   "execution_count": 51,
   "id": "ee8232a4",
   "metadata": {},
   "outputs": [
    {
     "name": "stdout",
     "output_type": "stream",
     "text": [
      "Overwriting ashu.txt\n"
     ]
    }
   ],
   "source": [
    "%%writefile ashu.txt\n",
    "this is first line\n",
    "this is the second line\n",
    "this is the third line"
   ]
  },
  {
   "cell_type": "code",
   "execution_count": 4,
   "id": "71e861c6",
   "metadata": {},
   "outputs": [
    {
     "data": {
      "text/plain": [
       "'C:\\\\Users\\\\Admin'"
      ]
     },
     "execution_count": 4,
     "metadata": {},
     "output_type": "execute_result"
    }
   ],
   "source": [
    "pwd"
   ]
  },
  {
   "cell_type": "code",
   "execution_count": 35,
   "id": "3b713709",
   "metadata": {},
   "outputs": [],
   "source": [
    "f=open(\"ashu.txt\",'r')"
   ]
  },
  {
   "cell_type": "code",
   "execution_count": 39,
   "id": "38346313",
   "metadata": {},
   "outputs": [
    {
     "data": {
      "text/plain": [
       "''"
      ]
     },
     "execution_count": 39,
     "metadata": {},
     "output_type": "execute_result"
    }
   ],
   "source": [
    "f.read()"
   ]
  },
  {
   "cell_type": "code",
   "execution_count": 44,
   "id": "3535485b",
   "metadata": {},
   "outputs": [
    {
     "data": {
      "text/plain": [
       "0"
      ]
     },
     "execution_count": 44,
     "metadata": {},
     "output_type": "execute_result"
    }
   ],
   "source": [
    "f.seek(0)"
   ]
  },
  {
   "cell_type": "code",
   "execution_count": 45,
   "id": "48c5dc6d",
   "metadata": {},
   "outputs": [],
   "source": [
    "r=f.read()"
   ]
  },
  {
   "cell_type": "code",
   "execution_count": 46,
   "id": "692a45c2",
   "metadata": {},
   "outputs": [
    {
     "data": {
      "text/plain": [
       "'this is first line\\nthis is the second line\\nthis is the third line\\n'"
      ]
     },
     "execution_count": 46,
     "metadata": {},
     "output_type": "execute_result"
    }
   ],
   "source": [
    "r"
   ]
  },
  {
   "cell_type": "code",
   "execution_count": 48,
   "id": "267773ae",
   "metadata": {},
   "outputs": [
    {
     "data": {
      "text/plain": [
       "0"
      ]
     },
     "execution_count": 48,
     "metadata": {},
     "output_type": "execute_result"
    }
   ],
   "source": [
    "f.seek(0)"
   ]
  },
  {
   "cell_type": "code",
   "execution_count": 49,
   "id": "6bdc16db",
   "metadata": {},
   "outputs": [
    {
     "data": {
      "text/plain": [
       "['this is first line\\n',\n",
       " 'this is the second line\\n',\n",
       " 'this is the third line\\n']"
      ]
     },
     "execution_count": 49,
     "metadata": {},
     "output_type": "execute_result"
    }
   ],
   "source": [
    "f.readlines()"
   ]
  },
  {
   "cell_type": "code",
   "execution_count": 50,
   "id": "20efa75c",
   "metadata": {},
   "outputs": [],
   "source": [
    "f.close()"
   ]
  },
  {
   "cell_type": "code",
   "execution_count": 86,
   "id": "c5cb551c",
   "metadata": {},
   "outputs": [
    {
     "name": "stdout",
     "output_type": "stream",
     "text": [
      "Overwriting ashu.txt\n"
     ]
    }
   ],
   "source": [
    "%%writefile ashu.txt\n",
    "this is first line\n",
    "this is the second line\n",
    "this is the third line"
   ]
  },
  {
   "cell_type": "code",
   "execution_count": 87,
   "id": "fd2f88e6",
   "metadata": {},
   "outputs": [
    {
     "name": "stdout",
     "output_type": "stream",
     "text": [
      "this is first line\n",
      "this is the second line\n",
      "this is the third line\n",
      "\n"
     ]
    }
   ],
   "source": [
    "with open(\"ashu.txt\",'r') as f:\n",
    "    print(f.read())"
   ]
  },
  {
   "cell_type": "code",
   "execution_count": 88,
   "id": "e4159b6c",
   "metadata": {},
   "outputs": [],
   "source": [
    "with open(\"ashu.txt\",'a') as f:\n",
    "    f.write(\"this is the fourth line\")"
   ]
  },
  {
   "cell_type": "code",
   "execution_count": 89,
   "id": "f3ac6c17",
   "metadata": {},
   "outputs": [
    {
     "name": "stdout",
     "output_type": "stream",
     "text": [
      "this is first line\n",
      "this is the second line\n",
      "this is the third line\n",
      "this is the fourth line\n"
     ]
    }
   ],
   "source": [
    "with open(\"ashu.txt\",'r') as f:\n",
    "    print(f.read())"
   ]
  },
  {
   "cell_type": "code",
   "execution_count": 90,
   "id": "23d78e05",
   "metadata": {},
   "outputs": [],
   "source": [
    "with open(\"ashu.txt\",'a') as f:\n",
    "    f.write(\"\\nthis is the fourth line\")"
   ]
  },
  {
   "cell_type": "code",
   "execution_count": 91,
   "id": "ffd95cdc",
   "metadata": {},
   "outputs": [
    {
     "name": "stdout",
     "output_type": "stream",
     "text": [
      "this is first line\n",
      "this is the second line\n",
      "this is the third line\n",
      "this is the fourth line\n",
      "this is the fourth line\n"
     ]
    }
   ],
   "source": [
    "with open(\"ashu.txt\",'r') as f:\n",
    "    print(f.read())"
   ]
  },
  {
   "cell_type": "code",
   "execution_count": 74,
   "id": "445b2a3c",
   "metadata": {},
   "outputs": [],
   "source": [
    "f.close()"
   ]
  },
  {
   "cell_type": "code",
   "execution_count": null,
   "id": "4fdbb1ca",
   "metadata": {},
   "outputs": [],
   "source": []
  }
 ],
 "metadata": {
  "kernelspec": {
   "display_name": "Python 3 (ipykernel)",
   "language": "python",
   "name": "python3"
  },
  "language_info": {
   "codemirror_mode": {
    "name": "ipython",
    "version": 3
   },
   "file_extension": ".py",
   "mimetype": "text/x-python",
   "name": "python",
   "nbconvert_exporter": "python",
   "pygments_lexer": "ipython3",
   "version": "3.9.7"
  }
 },
 "nbformat": 4,
 "nbformat_minor": 5
}
