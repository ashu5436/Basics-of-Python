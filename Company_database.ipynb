{
 "cells": [
  {
   "cell_type": "markdown",
   "id": "b04d8683",
   "metadata": {},
   "source": [
    "##### Company Database"
   ]
  },
  {
   "cell_type": "code",
   "execution_count": 1,
   "id": "26bf9a61",
   "metadata": {},
   "outputs": [],
   "source": [
    "import sqlite3"
   ]
  },
  {
   "cell_type": "code",
   "execution_count": 4,
   "id": "f83bf6a2",
   "metadata": {},
   "outputs": [],
   "source": [
    "db=sqlite3.connect(\"Company Database.db\")"
   ]
  },
  {
   "cell_type": "code",
   "execution_count": 5,
   "id": "b8083f13",
   "metadata": {},
   "outputs": [],
   "source": [
    "cur=db.cursor()"
   ]
  },
  {
   "cell_type": "code",
   "execution_count": 6,
   "id": "1780756b",
   "metadata": {},
   "outputs": [
    {
     "data": {
      "text/plain": [
       "<sqlite3.Cursor at 0x1fa8fae2ce0>"
      ]
     },
     "execution_count": 6,
     "metadata": {},
     "output_type": "execute_result"
    }
   ],
   "source": [
    "cur.execute(\"create table Employee(eid int primarykey,Designation text,Salary int)\")"
   ]
  },
  {
   "cell_type": "code",
   "execution_count": 7,
   "id": "89c78667",
   "metadata": {},
   "outputs": [],
   "source": [
    "cur.execute(\"insert into Employee(eid, Designation,Salary) values(121,'RM',42000)\")\n",
    "db.commit()"
   ]
  },
  {
   "cell_type": "code",
   "execution_count": 8,
   "id": "e7e31890",
   "metadata": {},
   "outputs": [],
   "source": [
    "cur.execute(\"insert into Employee values(111,'SRM',52000),(131,'VP',92000),(141,'SVP',102000),(151,'RM',48000)\")\n",
    "db.commit()"
   ]
  },
  {
   "cell_type": "code",
   "execution_count": 10,
   "id": "5245b569",
   "metadata": {},
   "outputs": [
    {
     "name": "stdout",
     "output_type": "stream",
     "text": [
      "(121, 'RM', 42000)\n",
      "(111, 'SRM', 52000)\n",
      "(131, 'VP', 92000)\n",
      "(141, 'SVP', 102000)\n",
      "(151, 'RM', 48000)\n"
     ]
    }
   ],
   "source": [
    "r=cur.execute(\"select * from Employee\")\n",
    "for row in r:\n",
    "    print(row)"
   ]
  },
  {
   "cell_type": "code",
   "execution_count": 11,
   "id": "898db985",
   "metadata": {},
   "outputs": [
    {
     "data": {
      "text/plain": [
       "[(121, 'RM', 42000),\n",
       " (111, 'SRM', 52000),\n",
       " (131, 'VP', 92000),\n",
       " (141, 'SVP', 102000),\n",
       " (151, 'RM', 48000)]"
      ]
     },
     "execution_count": 11,
     "metadata": {},
     "output_type": "execute_result"
    }
   ],
   "source": [
    "r=cur.execute(\"select * from Employee\")\n",
    "r.fetchall()"
   ]
  },
  {
   "cell_type": "code",
   "execution_count": 12,
   "id": "a21fccd0",
   "metadata": {},
   "outputs": [
    {
     "data": {
      "text/plain": [
       "(121, 'RM', 42000)"
      ]
     },
     "execution_count": 12,
     "metadata": {},
     "output_type": "execute_result"
    }
   ],
   "source": [
    "r=cur.execute(\"select * from Employee\")\n",
    "r.fetchone()"
   ]
  },
  {
   "cell_type": "code",
   "execution_count": 13,
   "id": "0c50fc0a",
   "metadata": {},
   "outputs": [
    {
     "data": {
      "text/plain": [
       "[(121,), (111,), (131,), (141,), (151,)]"
      ]
     },
     "execution_count": 13,
     "metadata": {},
     "output_type": "execute_result"
    }
   ],
   "source": [
    "r=cur.execute(\"select eid from Employee\")\n",
    "r.fetchall()"
   ]
  },
  {
   "cell_type": "code",
   "execution_count": 14,
   "id": "ed3f5375",
   "metadata": {},
   "outputs": [
    {
     "name": "stdout",
     "output_type": "stream",
     "text": [
      "(121,)\n",
      "(111,)\n",
      "(131,)\n",
      "(141,)\n",
      "(151,)\n"
     ]
    }
   ],
   "source": [
    "r=cur.execute(\"select eid from Employee\")\n",
    "for i in r:\n",
    "    print(i)"
   ]
  },
  {
   "cell_type": "code",
   "execution_count": 15,
   "id": "54a454cb",
   "metadata": {},
   "outputs": [
    {
     "name": "stdout",
     "output_type": "stream",
     "text": [
      "(121, 'RM')\n",
      "(111, 'SRM')\n",
      "(131, 'VP')\n",
      "(141, 'SVP')\n",
      "(151, 'RM')\n"
     ]
    }
   ],
   "source": [
    "r=cur.execute(\"select eid,Designation from Employee\")\n",
    "for i in r:\n",
    "    print(i)"
   ]
  },
  {
   "cell_type": "code",
   "execution_count": 16,
   "id": "874f7f30",
   "metadata": {},
   "outputs": [
    {
     "name": "stdout",
     "output_type": "stream",
     "text": [
      "('RM',)\n",
      "('SRM',)\n",
      "('VP',)\n",
      "('SVP',)\n",
      "('RM',)\n"
     ]
    }
   ],
   "source": [
    "r=cur.execute(\"select Designation from Employee\")\n",
    "for i in r:\n",
    "    print(i)"
   ]
  },
  {
   "cell_type": "code",
   "execution_count": 17,
   "id": "3937772c",
   "metadata": {},
   "outputs": [
    {
     "name": "stdout",
     "output_type": "stream",
     "text": [
      "('RM', 42000)\n",
      "('SRM', 52000)\n",
      "('VP', 92000)\n",
      "('SVP', 102000)\n",
      "('RM', 48000)\n"
     ]
    }
   ],
   "source": [
    "r=cur.execute(\"select Designation,Salary from Employee\")\n",
    "for i in r:\n",
    "    print(i)"
   ]
  },
  {
   "cell_type": "code",
   "execution_count": 18,
   "id": "3933c5ba",
   "metadata": {},
   "outputs": [
    {
     "name": "stdout",
     "output_type": "stream",
     "text": [
      "(42000, 'RM')\n",
      "(52000, 'SRM')\n",
      "(92000, 'VP')\n",
      "(102000, 'SVP')\n",
      "(48000, 'RM')\n"
     ]
    }
   ],
   "source": [
    "r=cur.execute(\"select Salary,Designation from Employee\")\n",
    "for i in r:\n",
    "    print(i)"
   ]
  },
  {
   "cell_type": "code",
   "execution_count": 19,
   "id": "57413cd6",
   "metadata": {},
   "outputs": [
    {
     "name": "stdout",
     "output_type": "stream",
     "text": [
      "(92000,)\n"
     ]
    }
   ],
   "source": [
    "r=cur.execute(\"select Salary from Employee where eid=131\")\n",
    "for i in r:\n",
    "    print(i)"
   ]
  },
  {
   "cell_type": "code",
   "execution_count": 20,
   "id": "a6333d9c",
   "metadata": {},
   "outputs": [
    {
     "name": "stdout",
     "output_type": "stream",
     "text": [
      "(92000, 'VP')\n"
     ]
    }
   ],
   "source": [
    "r=cur.execute(\"select Salary,Designation from Employee where eid=131\")\n",
    "for i in r:\n",
    "    print(i)"
   ]
  },
  {
   "cell_type": "code",
   "execution_count": 21,
   "id": "68ba16a7",
   "metadata": {},
   "outputs": [
    {
     "name": "stdout",
     "output_type": "stream",
     "text": [
      "('SVP',)\n"
     ]
    }
   ],
   "source": [
    "r=cur.execute(\"select Designation from Employee where Salary=102000\")\n",
    "for i in r:\n",
    "    print(i)"
   ]
  },
  {
   "cell_type": "code",
   "execution_count": 22,
   "id": "1dfe82d4",
   "metadata": {},
   "outputs": [
    {
     "data": {
      "text/plain": [
       "('SVP',)"
      ]
     },
     "execution_count": 22,
     "metadata": {},
     "output_type": "execute_result"
    }
   ],
   "source": [
    "r=cur.execute(\"select Designation from Employee where Salary=102000\")\n",
    "r.fetchone()"
   ]
  },
  {
   "cell_type": "code",
   "execution_count": 27,
   "id": "77e3095c",
   "metadata": {},
   "outputs": [
    {
     "name": "stdout",
     "output_type": "stream",
     "text": [
      "(131, 'VP', 92000)\n"
     ]
    }
   ],
   "source": [
    "r=cur.execute(\"select * from Employee where Salary=92000\")\n",
    "for i in r:\n",
    "    print(i)"
   ]
  },
  {
   "cell_type": "code",
   "execution_count": 30,
   "id": "6116e012",
   "metadata": {},
   "outputs": [
    {
     "name": "stdout",
     "output_type": "stream",
     "text": [
      "(131, 'VP', 92000)\n"
     ]
    }
   ],
   "source": [
    "r=cur.execute(\"select * from Employee where Salary=92000 and eid=131\")\n",
    "for i in r:\n",
    "    print(i)"
   ]
  },
  {
   "cell_type": "code",
   "execution_count": 34,
   "id": "17c0dacc",
   "metadata": {},
   "outputs": [
    {
     "name": "stdout",
     "output_type": "stream",
     "text": [
      "(141, 'SVP', 102000)\n"
     ]
    }
   ],
   "source": [
    "r=cur.execute(\"select * from Employee where Salary>92000 and Salary>42000\")\n",
    "for i in r:\n",
    "    print(i)"
   ]
  },
  {
   "cell_type": "code",
   "execution_count": 35,
   "id": "87a8c577",
   "metadata": {},
   "outputs": [
    {
     "name": "stdout",
     "output_type": "stream",
     "text": [
      "(141, 'SVP', 102000)\n"
     ]
    }
   ],
   "source": [
    "r=cur.execute(\"select * from Employee where Salary>92000 or Salary<42000\")\n",
    "for i in r:\n",
    "    print(i)"
   ]
  },
  {
   "cell_type": "code",
   "execution_count": 36,
   "id": "f72c1619",
   "metadata": {},
   "outputs": [
    {
     "name": "stdout",
     "output_type": "stream",
     "text": [
      "(121,)\n",
      "(151,)\n"
     ]
    }
   ],
   "source": [
    "r=cur.execute(\"select eid from Employee where Designation='RM' or Designation='QRM' \")\n",
    "for i in r:\n",
    "    print(i)"
   ]
  },
  {
   "cell_type": "code",
   "execution_count": 37,
   "id": "1b669456",
   "metadata": {},
   "outputs": [
    {
     "name": "stdout",
     "output_type": "stream",
     "text": [
      "('RM',)\n"
     ]
    }
   ],
   "source": [
    "r=cur.execute(\"select Designation from Employee where eid=101 or eid=121 \")\n",
    "for i in r:\n",
    "    print(i)"
   ]
  },
  {
   "cell_type": "code",
   "execution_count": 39,
   "id": "9be21113",
   "metadata": {},
   "outputs": [
    {
     "name": "stdout",
     "output_type": "stream",
     "text": [
      "(121,)\n",
      "(111,)\n",
      "(131,)\n",
      "(141,)\n",
      "(151,)\n"
     ]
    }
   ],
   "source": [
    "r=cur.execute(\"select eid from Employee where Salary is not null \")\n",
    "for i in r:\n",
    "    print(i)"
   ]
  },
  {
   "cell_type": "code",
   "execution_count": 40,
   "id": "df28d926",
   "metadata": {},
   "outputs": [],
   "source": [
    "r=cur.execute(\"select eid from Employee where Salary is null \")\n",
    "for i in r:\n",
    "    print(i)"
   ]
  },
  {
   "cell_type": "code",
   "execution_count": 43,
   "id": "7cda686a",
   "metadata": {},
   "outputs": [
    {
     "name": "stdout",
     "output_type": "stream",
     "text": [
      "(111,)\n",
      "(131,)\n",
      "(141,)\n",
      "(151,)\n"
     ]
    }
   ],
   "source": [
    "r=cur.execute(\"select eid from Employee where Salary not in (42000) \")\n",
    "for i in r:\n",
    "    print(i)"
   ]
  },
  {
   "cell_type": "code",
   "execution_count": 45,
   "id": "9a205579",
   "metadata": {},
   "outputs": [
    {
     "name": "stdout",
     "output_type": "stream",
     "text": [
      "(111, 'SRM', 52000)\n",
      "(131, 'VP', 92000)\n",
      "(141, 'SVP', 102000)\n"
     ]
    }
   ],
   "source": [
    "r=cur.execute(\"select * from Employee where Designation not in ('RM') \")\n",
    "for i in r:\n",
    "    print(i)"
   ]
  },
  {
   "cell_type": "code",
   "execution_count": 76,
   "id": "6be1ae5b",
   "metadata": {},
   "outputs": [
    {
     "name": "stdout",
     "output_type": "stream",
     "text": [
      "(111, 'SRM', 52000)\n",
      "(131, 'VP', 92000)\n",
      "(141, 'SVP', 102000)\n"
     ]
    }
   ],
   "source": [
    "r=cur.execute(\"select * from Employee where Salary between 52000 and 102001 \")\n",
    "for i in r:\n",
    "    print(i)"
   ]
  },
  {
   "cell_type": "markdown",
   "id": "1fe7d9ae",
   "metadata": {},
   "source": [
    "##### Aggregate Functions"
   ]
  },
  {
   "cell_type": "markdown",
   "id": "cdc5dcd8",
   "metadata": {},
   "source": [
    "#### Min,Max,Average,Sum,Count "
   ]
  },
  {
   "cell_type": "code",
   "execution_count": 46,
   "id": "feebfb6b",
   "metadata": {},
   "outputs": [
    {
     "name": "stdout",
     "output_type": "stream",
     "text": [
      "(111,)\n"
     ]
    }
   ],
   "source": [
    "r=cur.execute(\"select min(eid) from Employee\")\n",
    "for row in r:\n",
    "    print(row)"
   ]
  },
  {
   "cell_type": "code",
   "execution_count": 47,
   "id": "73e957cd",
   "metadata": {},
   "outputs": [
    {
     "data": {
      "text/plain": [
       "(111,)"
      ]
     },
     "execution_count": 47,
     "metadata": {},
     "output_type": "execute_result"
    }
   ],
   "source": [
    "r=cur.execute(\"select min(eid) from Employee\")\n",
    "r.fetchone()"
   ]
  },
  {
   "cell_type": "code",
   "execution_count": 48,
   "id": "cf518bf4",
   "metadata": {},
   "outputs": [
    {
     "name": "stdout",
     "output_type": "stream",
     "text": [
      "(102000,)\n"
     ]
    }
   ],
   "source": [
    "r=cur.execute(\"select max(Salary) from Employee\")\n",
    "for row in r:\n",
    "    print(row)"
   ]
  },
  {
   "cell_type": "code",
   "execution_count": 49,
   "id": "b544de88",
   "metadata": {},
   "outputs": [
    {
     "data": {
      "text/plain": [
       "(102000,)"
      ]
     },
     "execution_count": 49,
     "metadata": {},
     "output_type": "execute_result"
    }
   ],
   "source": [
    "r=cur.execute(\"select max(Salary) from Employee\")\n",
    "r.fetchone()"
   ]
  },
  {
   "cell_type": "code",
   "execution_count": 50,
   "id": "05f520a9",
   "metadata": {},
   "outputs": [
    {
     "data": {
      "text/plain": [
       "(336000,)"
      ]
     },
     "execution_count": 50,
     "metadata": {},
     "output_type": "execute_result"
    }
   ],
   "source": [
    "r=cur.execute(\"select sum(Salary) from Employee\")\n",
    "r.fetchone()"
   ]
  },
  {
   "cell_type": "code",
   "execution_count": 71,
   "id": "57f89fc1",
   "metadata": {},
   "outputs": [
    {
     "data": {
      "text/plain": [
       "(67200.0,)"
      ]
     },
     "execution_count": 71,
     "metadata": {},
     "output_type": "execute_result"
    }
   ],
   "source": [
    "r=cur.execute(\"select Avg(Salary) from Employee\")\n",
    "r.fetchone()"
   ]
  },
  {
   "cell_type": "code",
   "execution_count": 72,
   "id": "d4d925c8",
   "metadata": {},
   "outputs": [
    {
     "data": {
      "text/plain": [
       "(131.0,)"
      ]
     },
     "execution_count": 72,
     "metadata": {},
     "output_type": "execute_result"
    }
   ],
   "source": [
    "r=cur.execute(\"select Avg(eid) from Employee\")\n",
    "r.fetchone()"
   ]
  },
  {
   "cell_type": "code",
   "execution_count": 56,
   "id": "502c2332",
   "metadata": {},
   "outputs": [
    {
     "data": {
      "text/plain": [
       "(5,)"
      ]
     },
     "execution_count": 56,
     "metadata": {},
     "output_type": "execute_result"
    }
   ],
   "source": [
    "r=cur.execute(\"select count(Salary) from Employee\")\n",
    "r.fetchone()"
   ]
  },
  {
   "cell_type": "code",
   "execution_count": 58,
   "id": "ab6adb71",
   "metadata": {},
   "outputs": [
    {
     "name": "stdout",
     "output_type": "stream",
     "text": [
      "(121, 'RM', 42000)\n",
      "(111, 'SRM', 52000)\n",
      "(131, 'VP', 92000)\n",
      "(141, 'SVP', 102000)\n",
      "(151, 'RM', 48000)\n"
     ]
    }
   ],
   "source": [
    "r=cur.execute(\"select * from Employee\")\n",
    "for row in r:\n",
    "    print(row)"
   ]
  },
  {
   "cell_type": "code",
   "execution_count": 68,
   "id": "72528e1b",
   "metadata": {},
   "outputs": [
    {
     "name": "stdout",
     "output_type": "stream",
     "text": [
      "(121, 'RM', 42000)\n",
      "(151, 'RM', 48000)\n",
      "(111, 'SRM', 52000)\n",
      "(141, 'SVP', 102000)\n",
      "(131, 'VP', 92000)\n"
     ]
    }
   ],
   "source": [
    "r=cur.execute(\"select * from Employee order by Designation asc\")\n",
    "for row in r:\n",
    "    print(row)"
   ]
  },
  {
   "cell_type": "code",
   "execution_count": 69,
   "id": "3ff97d2b",
   "metadata": {},
   "outputs": [
    {
     "name": "stdout",
     "output_type": "stream",
     "text": [
      "(141, 'SVP', 102000)\n",
      "(131, 'VP', 92000)\n",
      "(111, 'SRM', 52000)\n",
      "(151, 'RM', 48000)\n",
      "(121, 'RM', 42000)\n"
     ]
    }
   ],
   "source": [
    "r=cur.execute(\"select * from Employee order by Salary Desc\")\n",
    "for row in r:\n",
    "    print(row)"
   ]
  },
  {
   "cell_type": "code",
   "execution_count": 70,
   "id": "78cd42e5",
   "metadata": {},
   "outputs": [
    {
     "name": "stdout",
     "output_type": "stream",
     "text": [
      "(111, 'SRM', 52000)\n",
      "(121, 'RM', 42000)\n",
      "(131, 'VP', 92000)\n",
      "(141, 'SVP', 102000)\n",
      "(151, 'RM', 48000)\n"
     ]
    }
   ],
   "source": [
    "r=cur.execute(\"select * from Employee order by eid asc\")\n",
    "for row in r:\n",
    "    print(row)"
   ]
  },
  {
   "cell_type": "code",
   "execution_count": 113,
   "id": "f6379c9b",
   "metadata": {},
   "outputs": [
    {
     "name": "stdout",
     "output_type": "stream",
     "text": [
      "(121, 'RM', 100000)\n",
      "(111, 'SRM', 100000)\n"
     ]
    }
   ],
   "source": [
    "r=cur.execute(\"select * from Employee limit 2\")\n",
    "for row in r:\n",
    "    print(row)"
   ]
  },
  {
   "cell_type": "code",
   "execution_count": 114,
   "id": "523913e2",
   "metadata": {},
   "outputs": [
    {
     "name": "stdout",
     "output_type": "stream",
     "text": [
      "(121, 'RM', 100000)\n",
      "(111, 'SRM', 100000)\n",
      "(131, 'VP', 92000)\n",
      "(141, 'SVP', 102000)\n"
     ]
    }
   ],
   "source": [
    "r=cur.execute(\"select * from Employee limit 4\")\n",
    "for row in r:\n",
    "    print(row)"
   ]
  },
  {
   "cell_type": "code",
   "execution_count": 115,
   "id": "1bfb1311",
   "metadata": {},
   "outputs": [
    {
     "name": "stdout",
     "output_type": "stream",
     "text": [
      "(121, 'RM', 100000)\n"
     ]
    }
   ],
   "source": [
    "r=cur.execute(\"select * from Employee limit 1\")\n",
    "for row in r:\n",
    "    print(row)"
   ]
  },
  {
   "cell_type": "markdown",
   "id": "e80facd5",
   "metadata": {},
   "source": [
    "#### Like Operator"
   ]
  },
  {
   "cell_type": "code",
   "execution_count": 60,
   "id": "5ef13a08",
   "metadata": {},
   "outputs": [
    {
     "name": "stdout",
     "output_type": "stream",
     "text": [
      "(121, 'RM', 42000)\n",
      "(111, 'SRM', 52000)\n",
      "(131, 'VP', 92000)\n",
      "(141, 'SVP', 102000)\n",
      "(151, 'RM', 48000)\n"
     ]
    }
   ],
   "source": [
    "r=cur.execute(\"select * from Employee\")\n",
    "for row in r:\n",
    "    print(row)"
   ]
  },
  {
   "cell_type": "code",
   "execution_count": 94,
   "id": "5238a9f4",
   "metadata": {},
   "outputs": [
    {
     "name": "stdout",
     "output_type": "stream",
     "text": [
      "(121, 'RM', 42000)\n"
     ]
    }
   ],
   "source": [
    "r=cur.execute(\"select * from Employee  where eid like '_2%' \")\n",
    "for row in r:\n",
    "    print(row)"
   ]
  },
  {
   "cell_type": "code",
   "execution_count": 95,
   "id": "8e7b1ce8",
   "metadata": {},
   "outputs": [
    {
     "name": "stdout",
     "output_type": "stream",
     "text": [
      "(121, 'RM', 42000)\n",
      "(111, 'SRM', 52000)\n",
      "(131, 'VP', 92000)\n",
      "(141, 'SVP', 102000)\n",
      "(151, 'RM', 48000)\n"
     ]
    }
   ],
   "source": [
    "r=cur.execute(\"select * from Employee  where eid like '__%' \")\n",
    "for row in r:\n",
    "    print(row)"
   ]
  },
  {
   "cell_type": "code",
   "execution_count": 96,
   "id": "0fd0d41f",
   "metadata": {},
   "outputs": [
    {
     "name": "stdout",
     "output_type": "stream",
     "text": [
      "(121, 'RM', 42000)\n",
      "(111, 'SRM', 52000)\n",
      "(131, 'VP', 92000)\n",
      "(141, 'SVP', 102000)\n",
      "(151, 'RM', 48000)\n"
     ]
    }
   ],
   "source": [
    "r=cur.execute(\"select * from Employee  where eid like '___' \")\n",
    "for row in r:\n",
    "    print(row)"
   ]
  },
  {
   "cell_type": "code",
   "execution_count": 97,
   "id": "54482178",
   "metadata": {},
   "outputs": [
    {
     "name": "stdout",
     "output_type": "stream",
     "text": [
      "(121, 'RM', 42000)\n",
      "(111, 'SRM', 52000)\n",
      "(131, 'VP', 92000)\n",
      "(141, 'SVP', 102000)\n",
      "(151, 'RM', 48000)\n"
     ]
    }
   ],
   "source": [
    "r=cur.execute(\"select * from Employee  where eid like '%' \")\n",
    "for row in r:\n",
    "    print(row)"
   ]
  },
  {
   "cell_type": "code",
   "execution_count": 100,
   "id": "a9f7f074",
   "metadata": {},
   "outputs": [
    {
     "name": "stdout",
     "output_type": "stream",
     "text": [
      "(121, 'RM', 42000)\n"
     ]
    }
   ],
   "source": [
    "r=cur.execute(\"select * from Employee  where eid like '%2%' \")\n",
    "for row in r:\n",
    "    print(row)"
   ]
  },
  {
   "cell_type": "code",
   "execution_count": 101,
   "id": "9049b9bd",
   "metadata": {},
   "outputs": [
    {
     "name": "stdout",
     "output_type": "stream",
     "text": [
      "(111, 'SRM', 52000)\n",
      "(141, 'SVP', 102000)\n"
     ]
    }
   ],
   "source": [
    "r=cur.execute(\"select * from Employee  where Designation like '___' \")\n",
    "for row in r:\n",
    "    print(row)"
   ]
  },
  {
   "cell_type": "code",
   "execution_count": 103,
   "id": "c9373a14",
   "metadata": {},
   "outputs": [
    {
     "name": "stdout",
     "output_type": "stream",
     "text": [
      "(121, 'RM', 42000)\n",
      "(111, 'SRM', 52000)\n",
      "(131, 'VP', 92000)\n",
      "(141, 'SVP', 102000)\n",
      "(151, 'RM', 48000)\n"
     ]
    }
   ],
   "source": [
    "r=cur.execute(\"select * from Employee  where Designation like '__%' \")\n",
    "for row in r:\n",
    "    print(row)"
   ]
  },
  {
   "cell_type": "code",
   "execution_count": 104,
   "id": "1c223724",
   "metadata": {},
   "outputs": [
    {
     "name": "stdout",
     "output_type": "stream",
     "text": [
      "(111, 'SRM', 52000)\n",
      "(141, 'SVP', 102000)\n"
     ]
    }
   ],
   "source": [
    "r=cur.execute(\"select * from Employee  where Designation like 's%' \")\n",
    "for row in r:\n",
    "    print(row)"
   ]
  },
  {
   "cell_type": "code",
   "execution_count": 106,
   "id": "33cd077c",
   "metadata": {},
   "outputs": [
    {
     "name": "stdout",
     "output_type": "stream",
     "text": [
      "(121, 'RM', 42000)\n",
      "(111, 'SRM', 52000)\n",
      "(131, 'VP', 92000)\n",
      "(141, 'SVP', 102000)\n",
      "(151, 'RM', 48000)\n"
     ]
    }
   ],
   "source": [
    "r=cur.execute(\"select * from Employee\")\n",
    "for i in r:\n",
    "    print (i)"
   ]
  },
  {
   "cell_type": "markdown",
   "id": "1f54dcbd",
   "metadata": {},
   "source": [
    "#### Updation"
   ]
  },
  {
   "cell_type": "code",
   "execution_count": 109,
   "id": "ae5d2819",
   "metadata": {},
   "outputs": [],
   "source": [
    "cur.execute(\"update Employee set Salary=30000 where eid=121\")\n",
    "db.commit()"
   ]
  },
  {
   "cell_type": "code",
   "execution_count": 110,
   "id": "c82d16a0",
   "metadata": {},
   "outputs": [
    {
     "name": "stdout",
     "output_type": "stream",
     "text": [
      "(121, 'RM', 30000)\n",
      "(111, 'SRM', 52000)\n",
      "(131, 'VP', 92000)\n",
      "(141, 'SVP', 102000)\n",
      "(151, 'RM', 48000)\n"
     ]
    }
   ],
   "source": [
    "r=cur.execute(\"select * from Employee\")\n",
    "for i in r:\n",
    "    print (i)"
   ]
  },
  {
   "cell_type": "code",
   "execution_count": 111,
   "id": "6374c90c",
   "metadata": {},
   "outputs": [],
   "source": [
    "cur.execute(\"update Employee set Salary=100000 where eid in (121,111)\")\n",
    "db.commit()"
   ]
  },
  {
   "cell_type": "code",
   "execution_count": 112,
   "id": "ed9a5539",
   "metadata": {},
   "outputs": [
    {
     "name": "stdout",
     "output_type": "stream",
     "text": [
      "(121, 'RM', 100000)\n",
      "(111, 'SRM', 100000)\n",
      "(131, 'VP', 92000)\n",
      "(141, 'SVP', 102000)\n",
      "(151, 'RM', 48000)\n"
     ]
    }
   ],
   "source": [
    "r=cur.execute(\"select * from Employee\")\n",
    "for i in r:\n",
    "    print (i)"
   ]
  },
  {
   "cell_type": "markdown",
   "id": "e4ff42b8",
   "metadata": {},
   "source": [
    "#### Deletion"
   ]
  },
  {
   "cell_type": "code",
   "execution_count": 118,
   "id": "6b9228d8",
   "metadata": {},
   "outputs": [],
   "source": [
    "cur.execute(\"Delete from Employee where eid=111\")\n",
    "db.commit()"
   ]
  },
  {
   "cell_type": "code",
   "execution_count": 119,
   "id": "f1cf84b9",
   "metadata": {},
   "outputs": [
    {
     "name": "stdout",
     "output_type": "stream",
     "text": [
      "(121, 'RM', 100000)\n",
      "(131, 'VP', 92000)\n",
      "(141, 'SVP', 102000)\n",
      "(151, 'RM', 48000)\n"
     ]
    }
   ],
   "source": [
    "r=cur.execute(\"select * from Employee\")\n",
    "for i in r:\n",
    "    print (i)"
   ]
  },
  {
   "cell_type": "code",
   "execution_count": 121,
   "id": "6cc80d3f",
   "metadata": {},
   "outputs": [],
   "source": [
    "cur.execute(\"delete from Employee where eid in (121,151)\")\n",
    "db.commit()"
   ]
  },
  {
   "cell_type": "code",
   "execution_count": 122,
   "id": "bf49a8c2",
   "metadata": {},
   "outputs": [
    {
     "name": "stdout",
     "output_type": "stream",
     "text": [
      "(131, 'VP', 92000)\n",
      "(141, 'SVP', 102000)\n"
     ]
    }
   ],
   "source": [
    "r=cur.execute(\"select * from Employee\")\n",
    "for i in r:\n",
    "    print (i)"
   ]
  },
  {
   "cell_type": "code",
   "execution_count": 125,
   "id": "3ef17d40",
   "metadata": {},
   "outputs": [
    {
     "ename": "OperationalError",
     "evalue": "no such table: Employee",
     "output_type": "error",
     "traceback": [
      "\u001b[1;31m---------------------------------------------------------------------------\u001b[0m",
      "\u001b[1;31mOperationalError\u001b[0m                          Traceback (most recent call last)",
      "\u001b[1;32m~\\AppData\\Local\\Temp/ipykernel_11380/3488832990.py\u001b[0m in \u001b[0;36m<module>\u001b[1;34m\u001b[0m\n\u001b[1;32m----> 1\u001b[1;33m \u001b[0mcur\u001b[0m\u001b[1;33m.\u001b[0m\u001b[0mexecute\u001b[0m\u001b[1;33m(\u001b[0m\u001b[1;34m\"drop table Employee\"\u001b[0m\u001b[1;33m)\u001b[0m\u001b[1;33m\u001b[0m\u001b[1;33m\u001b[0m\u001b[0m\n\u001b[0m\u001b[0;32m      2\u001b[0m \u001b[0mdb\u001b[0m\u001b[1;33m.\u001b[0m\u001b[0mcommit\u001b[0m\u001b[1;33m(\u001b[0m\u001b[1;33m)\u001b[0m\u001b[1;33m\u001b[0m\u001b[1;33m\u001b[0m\u001b[0m\n",
      "\u001b[1;31mOperationalError\u001b[0m: no such table: Employee"
     ]
    }
   ],
   "source": [
    "cur.execute(\"drop table Employee\")\n",
    "db.commit()"
   ]
  },
  {
   "cell_type": "code",
   "execution_count": 126,
   "id": "84b32c7b",
   "metadata": {},
   "outputs": [],
   "source": [
    "db.close()"
   ]
  },
  {
   "cell_type": "code",
   "execution_count": 127,
   "id": "17a1a6be",
   "metadata": {},
   "outputs": [
    {
     "data": {
      "text/plain": [
       "<sqlite3.Connection at 0x1fa8faf1c60>"
      ]
     },
     "execution_count": 127,
     "metadata": {},
     "output_type": "execute_result"
    }
   ],
   "source": [
    "db"
   ]
  }
 ],
 "metadata": {
  "kernelspec": {
   "display_name": "Python 3 (ipykernel)",
   "language": "python",
   "name": "python3"
  },
  "language_info": {
   "codemirror_mode": {
    "name": "ipython",
    "version": 3
   },
   "file_extension": ".py",
   "mimetype": "text/x-python",
   "name": "python",
   "nbconvert_exporter": "python",
   "pygments_lexer": "ipython3",
   "version": "3.9.7"
  }
 },
 "nbformat": 4,
 "nbformat_minor": 5
}
